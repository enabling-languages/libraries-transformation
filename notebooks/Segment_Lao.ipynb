{
  "cells": [
    {
      "cell_type": "markdown",
      "metadata": {
        "id": "k2JQ_jI3-kyV"
      },
      "source": [
        "# Lao word tokenisation (segmentation)\n",
        "\n",
        "[![Open In Colab](https://colab.research.google.com/assets/colab-badge.svg)](https://colab.research.google.com/github/enabling-languages/libraries-transformation/blob/main/notebooks/Segment_Lao.ipynb)\n",
        "\n",
        "\n",
        "The code below will use ICU and LaoNLP to perform word segmentation for comparison. "
      ]
    },
    {
      "cell_type": "markdown",
      "metadata": {
        "id": "EblWQFt1_MAh"
      },
      "source": [
        "## Setup\n"
      ]
    },
    {
      "cell_type": "code",
      "execution_count": 1,
      "metadata": {
        "id": "uWgIk54i-izc"
      },
      "outputs": [
        {
          "ename": "ModuleNotFoundError",
          "evalue": "No module named 'laonlp'",
          "output_type": "error",
          "traceback": [
            "\u001b[0;31m---------------------------------------------------------------------------\u001b[0m",
            "\u001b[0;31mModuleNotFoundError\u001b[0m                       Traceback (most recent call last)",
            "Cell \u001b[0;32mIn[1], line 13\u001b[0m\n\u001b[1;32m     10\u001b[0m   get_ipython()\u001b[39m.\u001b[39msystem(\u001b[39m'\u001b[39m\u001b[39mpip install -U git+https://github.com/enabling-languages/el_internationalisation.git#egg=el_internationalisation\u001b[39m\u001b[39m'\u001b[39m)\n\u001b[1;32m     11\u001b[0m   get_ipython()\u001b[39m.\u001b[39msystem(\u001b[39m'\u001b[39m\u001b[39mpip install -U git+https://github.com/enabling-languages/el_utilities.git#egg=el_utilities\u001b[39m\u001b[39m'\u001b[39m)\n\u001b[0;32m---> 13\u001b[0m \u001b[39mfrom\u001b[39;00m \u001b[39mlaonlp\u001b[39;00m\u001b[39m.\u001b[39;00m\u001b[39mtokenize\u001b[39;00m \u001b[39mimport\u001b[39;00m word_tokenize \u001b[39mas\u001b[39;00m lao_wt\n\u001b[1;32m     14\u001b[0m \u001b[39mfrom\u001b[39;00m \u001b[39micu\u001b[39;00m \u001b[39mimport\u001b[39;00m BreakIterator, Locale, RuleBasedBreakIterator\n\u001b[1;32m     15\u001b[0m \u001b[39mimport\u001b[39;00m \u001b[39mregex\u001b[39;00m \u001b[39mas\u001b[39;00m \u001b[39mre\u001b[39;00m\u001b[39m,\u001b[39m \u001b[39mel_utilities\u001b[39;00m \u001b[39mas\u001b[39;00m \u001b[39melu\u001b[39;00m\u001b[39m,\u001b[39m \u001b[39mel_internationalisation\u001b[39;00m \u001b[39mas\u001b[39;00m \u001b[39meli\u001b[39;00m\n",
            "\u001b[0;31mModuleNotFoundError\u001b[0m: No module named 'laonlp'"
          ]
        }
      ],
      "source": [
        "%%capture\n",
        "\n",
        "try:\n",
        "  import google.colab\n",
        "  IN_COLAB = True\n",
        "except ImportError:\n",
        "  IN_COLAB = False\n",
        "\n",
        "if IN_COLAB:\n",
        "  !pip install laonlp\n",
        "  !pip install pyicu\n",
        "  !pip install -U git+https://github.com/enabling-languages/el_internationalisation.git#egg=el_internationalisation\n",
        "  !pip install -U git+https://github.com/enabling-languages/el_utilities.git#egg=el_utilities\n",
        "\n",
        "from laonlp.tokenize import word_tokenize as lao_wt\n",
        "from icu import BreakIterator, Locale, RuleBasedBreakIterator\n",
        "import regex as re, el_utilities as elu, el_internationalisation as eli"
      ]
    },
    {
      "cell_type": "code",
      "execution_count": 3,
      "metadata": {
        "id": "RtOJqcoqA_Zk"
      },
      "outputs": [],
      "source": [
        "DEFAULT_NORMALISATION_FORM: str = \"NFM\"\n",
        "\n",
        "def laonlp_tokenise(s, sep):\n",
        "    s = sep.join(lao_wt(s))\n",
        "    s = re.sub(r\"\\s{2,}\", \" \", s)\n",
        "    s = re.sub(r'\\s([?.!\"](?:\\s|$))', r'\\1', s)\n",
        "    s = re.sub(r'\\s([\\-])(?:\\s|$)', r'\\1', s)\n",
        "    return s\n",
        "\n",
        "def iterate_breaks(text, bi):\n",
        "    bi.setText(text)\n",
        "    lastpos = 0\n",
        "    while True:\n",
        "        next_boundary = bi.nextBoundary()\n",
        "        if next_boundary == -1: return\n",
        "        yield text[lastpos:next_boundary]\n",
        "        lastpos = next_boundary\n",
        "\n",
        "bi = BreakIterator.createWordInstance(Locale('lo_LA'))\n",
        "def icu_tokenise(s, sep, iterator=bi):\n",
        "    s = sep.join(list(iterate_breaks(s, iterator)))\n",
        "    s = re.sub(r\"\\s{2,}\", \" \", s)\n",
        "    s = re.sub(r'\\s([?.!\\\"](?:\\s|$))', r'\\1', s)\n",
        "    s = re.sub(r'\\s([\\-])(?:\\s|$)', r'\\1', s)\n",
        "    return s\n",
        "\n",
        "def segment_words(text, engine=\"icu\", sep=\"\\u0020\"):\n",
        "    engine = engine.lower()\n",
        "    if engine == \"icu\":\n",
        "        return icu_tokenise(text, sep)\n",
        "    elif engine == \"laonlp\":\n",
        "        return laonlp_tokenise(text, sep)"
      ]
    },
    {
      "cell_type": "code",
      "execution_count": 4,
      "metadata": {},
      "outputs": [],
      "source": [
        "# SEP = \"\\u2009·\\u2009\"\n",
        "ZWSP = \"\\u200B\"\n",
        "with open('Lao.rbbi') as f:\n",
        "    rbbi = f.read()\n",
        "sbi = RuleBasedBreakIterator(rbbi)\n",
        "\n",
        "def lao_syllabification(lao_text, bi, sep=\"|\"):\n",
        "    r = []\n",
        "    for item in lao_text.split():\n",
        "        r.append(sep.join(list(iterate_breaks(item, bi)))) if bool(re.search(r'[\\p{Lao}]', item)) else r.append(item)\n",
        "    return \" \".join(r)"
      ]
    },
    {
      "cell_type": "markdown",
      "metadata": {
        "id": "3BgYsliH1aLJ"
      },
      "source": [
        "## Enter text\n",
        "\n",
        "test: ບົດສະຫລຸບການຈັດຕັ້ງປະຕິບັດວຽກງານຮອບດ້ານສິກປີ 2008-2009 ແລະ ທິດທາງແຜນການສິກປີ 2009-2010"
      ]
    },
    {
      "cell_type": "code",
      "execution_count": 5,
      "metadata": {
        "colab": {
          "base_uri": "https://localhost:8080/"
        },
        "id": "nxjyoDv6_Ijq",
        "outputId": "ad7bbd7b-dbf0-4f15-91dd-a779d83bb804"
      },
      "outputs": [],
      "source": [
        "lao_data = input(\"Enter Lao text: \")"
      ]
    },
    {
      "cell_type": "markdown",
      "metadata": {
        "id": "clQABxSc_3Hm"
      },
      "source": [
        "## Word segmentation with ICU"
      ]
    },
    {
      "cell_type": "code",
      "execution_count": 6,
      "metadata": {
        "colab": {
          "base_uri": "https://localhost:8080/",
          "height": 36
        },
        "id": "jqQ2yad9_8a6",
        "outputId": "d4d2d43a-963e-42e3-e43e-febae00c82e1"
      },
      "outputs": [
        {
          "name": "stdout",
          "output_type": "stream",
          "text": [
            "ບົດ ສະຫລຸບ ການ ຈັດຕັ້ງ ປະຕິບັດ ວຽກງານ ຮອບ ດ້ານ ສິກ ປີ 2008-2009 ແລະ ທິດທາງ ແຜນການ ສິກ ປີ 2009-2010\n",
            "Bot Sǭະຫລຸບ kangນ Chattang patibat vīakngān hǭp dān Sǭິກ pī 2008-2009 læ ທິດThāng Phǣnkān Sǭິກ pī 2009-2010\n"
          ]
        }
      ],
      "source": [
        "icu_seg = segment_words(lao_data, engine=\"icu\", sep=\" \")\n",
        "print(icu_seg)\n",
        "print(elu.el_transliterate(icu_seg, lang=\"lo\", dir=\"forward\", nf=DEFAULT_NORMALISATION_FORM))"
      ]
    },
    {
      "cell_type": "markdown",
      "metadata": {
        "id": "yHndwE6LCRMC"
      },
      "source": [
        "## Word segmentation with LaoNLP"
      ]
    },
    {
      "cell_type": "code",
      "execution_count": 7,
      "metadata": {
        "colab": {
          "base_uri": "https://localhost:8080/",
          "height": 36
        },
        "id": "nHX4IXIACQYS",
        "outputId": "bf3917c2-2a66-4826-e498-2636e4eae115"
      },
      "outputs": [
        {
          "name": "stdout",
          "output_type": "stream",
          "text": [
            "ບົດ ສະຫລຸບ ການຈັດຕັ້ງ ປະຕິບັດ ວຽກງານ ຮອບດ້ານ ສິກ ປີ 2008-2009 ແລະ ທິດທາງ ແຜນການສິກ ປີ 2009-2010\n",
            "Bot Sǭະຫລຸບ kangນChattang patibat vīakngān hǭpdān Sǭິກ pī 2008-2009 læ ທິດThāng PhǣnkānSǭິກ pī 2009-2010\n"
          ]
        }
      ],
      "source": [
        "laonlp_seg = segment_words(lao_data, engine=\"laonlp\", sep=\" \")\n",
        "print(laonlp_seg)\n",
        "print(elu.el_transliterate(laonlp_seg, lang=\"lo\", dir=\"forward\", nf=DEFAULT_NORMALISATION_FORM))"
      ]
    },
    {
      "cell_type": "markdown",
      "metadata": {},
      "source": [
        "## Syllable segmentation with ICU\n",
        "\n",
        "PyICU using rule based break iteration.\n",
        "\n",
        "PyICU does not provide a syllable based break iterator, but it is possible to write a custom rule set for the break iterator which would perform syllable level segmentation.\n",
        "\n",
        "We are using [Lao.rbbi](https://github.com/apache/solr/blob/e8e4245d9b36123446546ff15967ac95429ea2b0/lucene/analysis/icu/src/data/uax29/Lao.rbbi) from an older version of Solr."
      ]
    },
    {
      "cell_type": "markdown",
      "metadata": {},
      "source": [
        "Insert Zero Width Space at syllbale boundaries. This can then be used for syllable based romanisation."
      ]
    },
    {
      "cell_type": "code",
      "execution_count": 8,
      "metadata": {},
      "outputs": [
        {
          "name": "stdout",
          "output_type": "stream",
          "text": [
            "ບົດ​ສະ​ຫລຸບ​ການ​ຈັດ​ຕັ້ງ​ປະ​ຕິບ​ັ​ດວຽກ​ງານ​ຮອບ​ດ້ານ​ສິກ​ປີ 2008-2009 ແລະ ທິດ​ທາງ​ແຜນ​ການ​ສິກ​ປີ 2009-2010\n"
          ]
        }
      ],
      "source": [
        "print(lao_syllabification(lao_data, sbi, sep=ZWSP))"
      ]
    },
    {
      "cell_type": "markdown",
      "metadata": {},
      "source": [
        "Visable syllable boundaries:"
      ]
    },
    {
      "cell_type": "code",
      "execution_count": 9,
      "metadata": {},
      "outputs": [
        {
          "name": "stdout",
          "output_type": "stream",
          "text": [
            "ບົດ|ສະ|ຫລຸບ|ການ|ຈັດ|ຕັ້ງ|ປະ|ຕິບ|ັ|ດວຽກ|ງານ|ຮອບ|ດ້ານ|ສິກ|ປີ 2008-2009 ແລະ ທິດ|ທາງ|ແຜນ|ການ|ສິກ|ປີ 2009-2010\n"
          ]
        }
      ],
      "source": [
        "print(lao_syllabification(lao_data, sbi))"
      ]
    }
  ],
  "metadata": {
    "colab": {
      "collapsed_sections": [],
      "provenance": []
    },
    "kernelspec": {
      "display_name": "athinkra",
      "language": "python",
      "name": "python3"
    },
    "language_info": {
      "codemirror_mode": {
        "name": "ipython",
        "version": 3
      },
      "file_extension": ".py",
      "mimetype": "text/x-python",
      "name": "python",
      "nbconvert_exporter": "python",
      "pygments_lexer": "ipython3",
      "version": "3.11.0"
    },
    "vscode": {
      "interpreter": {
        "hash": "6fa8d711d9b3ed9b86f15d0588ce878e6e4b65af8150fe7da033b2de0dce3894"
      }
    }
  },
  "nbformat": 4,
  "nbformat_minor": 0
}
