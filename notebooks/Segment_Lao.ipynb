{
  "nbformat": 4,
  "nbformat_minor": 0,
  "metadata": {
    "colab": {
      "provenance": [],
      "collapsed_sections": [
        "EblWQFt1_MAh"
      ]
    },
    "kernelspec": {
      "name": "python3",
      "display_name": "Python 3"
    },
    "language_info": {
      "name": "python"
    }
  },
  "cells": [
    {
      "cell_type": "markdown",
      "source": [
        "# Lao word tokenisation (segmentation)\n",
        "\n",
        "[![Open In Colab](https://colab.research.google.com/assets/colab-badge.svg)](https://colab.research.google.com/github/enabling-languages/libraries-transformation/blob/main/notebooks/Segment_Lao.ipynb)\n",
        "\n",
        "\n",
        "The code below will use ICU and LaoNLP to perform word segmentation for comparison. "
      ],
      "metadata": {
        "id": "k2JQ_jI3-kyV"
      }
    },
    {
      "cell_type": "markdown",
      "source": [
        "## Setup\n"
      ],
      "metadata": {
        "id": "EblWQFt1_MAh"
      }
    },
    {
      "cell_type": "code",
      "execution_count": 11,
      "metadata": {
        "id": "uWgIk54i-izc"
      },
      "outputs": [],
      "source": [
        "%%capture\n",
        "!pip install laonlp\n",
        "!pip install pyicu\n",
        "\n",
        "from laonlp.tokenize import word_tokenize as lao_wt\n",
        "from icu import BreakIterator, Locale\n",
        "import regex as re"
      ]
    },
    {
      "cell_type": "code",
      "source": [
        "def laonlp_tokenise(s, sep):\n",
        "    s = sep.join(lao_wt(s))\n",
        "    s = re.sub(r\"\\s{2,}\", \" \", s)\n",
        "    s = re.sub(r'\\s([?.!\"](?:\\s|$))', r'\\1', s)\n",
        "    s = re.sub(r'\\s([\\-])(?:\\s|$)', r'\\1', s)\n",
        "    return s\n",
        "\n",
        "def iterate_breaks(text, bi):\n",
        "    bi.setText(text)\n",
        "    lastpos = 0\n",
        "    while True:\n",
        "        next_boundary = bi.nextBoundary()\n",
        "        if next_boundary == -1: return\n",
        "        yield text[lastpos:next_boundary]\n",
        "        lastpos = next_boundary\n",
        "\n",
        "bi = BreakIterator.createWordInstance(Locale('lo_LA'))\n",
        "def icu_tokenise(s, sep, iterator=bi):\n",
        "    s = sep.join(list(iterate_breaks(s, iterator)))\n",
        "    s = re.sub(r\"\\s{2,}\", \" \", s)\n",
        "    s = re.sub(r'\\s([?.!\\\"](?:\\s|$))', r'\\1', s)\n",
        "    s = re.sub(r'\\s([\\-])(?:\\s|$)', r'\\1', s)\n",
        "    return s\n",
        "\n",
        "def segment_words(text, engine=\"icu\", sep=\"\\u0020\"):\n",
        "    engine = engine.lower()\n",
        "    if engine == \"icu\":\n",
        "        return icu_tokenise(text, sep)\n",
        "    elif engine == \"laonlp\":\n",
        "        return laonlp_tokenise(text, sep)"
      ],
      "metadata": {
        "id": "RtOJqcoqA_Zk"
      },
      "execution_count": 8,
      "outputs": []
    },
    {
      "cell_type": "markdown",
      "source": [
        "## Enter text"
      ],
      "metadata": {
        "id": "3BgYsliH1aLJ"
      }
    },
    {
      "cell_type": "code",
      "source": [
        "lao_data = input(\"Enter Lao text: \")"
      ],
      "metadata": {
        "colab": {
          "base_uri": "https://localhost:8080/"
        },
        "id": "nxjyoDv6_Ijq",
        "outputId": "25b2c5e9-54eb-40f2-a5d5-98ff07e770e9"
      },
      "execution_count": 3,
      "outputs": [
        {
          "name": "stdout",
          "output_type": "stream",
          "text": [
            "Enter Lao text: ບົດສະຫລຸບການຈັດຕັ້ງປະຕິບັດວຽກງານຮອບດ້ານສິກປີ 2008-2009 ແລະ ທິດທາງແຜນການສິກປີ 2009-2010\n"
          ]
        }
      ]
    },
    {
      "cell_type": "markdown",
      "source": [
        "## Segmentation with ICU"
      ],
      "metadata": {
        "id": "clQABxSc_3Hm"
      }
    },
    {
      "cell_type": "code",
      "source": [
        "segment_words(lao_data, engine=\"icu\", sep=\" \")"
      ],
      "metadata": {
        "colab": {
          "base_uri": "https://localhost:8080/",
          "height": 36
        },
        "id": "jqQ2yad9_8a6",
        "outputId": "3e8d3375-21d7-47f4-a074-858752cbf2e4"
      },
      "execution_count": 9,
      "outputs": [
        {
          "output_type": "execute_result",
          "data": {
            "text/plain": [
              "'ບົດ ສະຫລຸບ ການ ຈັດຕັ້ງ ປະຕິບັດ ວຽກງານ ຮອບ ດ້ານ ສິກ ປີ 2008-2009 ແລະ ທິດທາງ ແຜນ ການ ສິກ ປີ 2009-2010'"
            ],
            "application/vnd.google.colaboratory.intrinsic+json": {
              "type": "string"
            }
          },
          "metadata": {},
          "execution_count": 9
        }
      ]
    },
    {
      "cell_type": "markdown",
      "source": [
        "## Segmentation with LaoNLP"
      ],
      "metadata": {
        "id": "yHndwE6LCRMC"
      }
    },
    {
      "cell_type": "code",
      "source": [
        "segment_words(lao_data, engine=\"laonlp\", sep=\" \")"
      ],
      "metadata": {
        "colab": {
          "base_uri": "https://localhost:8080/",
          "height": 36
        },
        "id": "nHX4IXIACQYS",
        "outputId": "e69c54bd-07d4-47fe-87ed-e30eafb595fb"
      },
      "execution_count": 10,
      "outputs": [
        {
          "output_type": "execute_result",
          "data": {
            "text/plain": [
              "'ບົດ ສະຫລຸບ ການຈັດຕັ້ງ ປະຕິບັດ ວຽກງານ ຮອບດ້ານ ສິກ ປີ 2008-2009 ແລະ ທິດທາງ ແຜນການສິກ ປີ 2009-2010'"
            ],
            "application/vnd.google.colaboratory.intrinsic+json": {
              "type": "string"
            }
          },
          "metadata": {},
          "execution_count": 10
        }
      ]
    }
  ]
}