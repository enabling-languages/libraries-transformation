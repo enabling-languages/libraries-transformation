{
 "cells": [
  {
   "cell_type": "code",
   "execution_count": 1,
   "metadata": {},
   "outputs": [],
   "source": [
    "#!pip install -q pyicu\n",
    "from icu import Transliterator, UTransDirection"
   ]
  },
  {
   "cell_type": "code",
   "execution_count": 2,
   "metadata": {},
   "outputs": [],
   "source": [
    "direction = UTransDirection.FORWARD\n",
    "label = \"Lao-Latin-Test\"\n",
    "rules = (\n",
    "    \"$tones = [\\u0EC8\\u0EC9\\u0ECA\\u0ECB] ;\"\n",
    "    \":: (lower) ; \"\n",
    "    \":: (NFC) ;\"\n",
    "    \"$nul = '' ; \"\n",
    "    \"$tones > \"\n",
    ")"
   ]
  },
  {
   "cell_type": "code",
   "execution_count": 3,
   "metadata": {},
   "outputs": [],
   "source": [
    "s = \"ໄກ່ ເຜິ້ງ\""
   ]
  },
  {
   "cell_type": "code",
   "execution_count": 4,
   "metadata": {},
   "outputs": [
    {
     "data": {
      "text/plain": [
       "'ໄກ ເຜິງ'"
      ]
     },
     "execution_count": 4,
     "metadata": {},
     "output_type": "execute_result"
    }
   ],
   "source": [
    "custom = Transliterator.createFromRules(label, rules, direction)\n",
    "result = custom.transliterate(s)\n",
    "result"
   ]
  },
  {
   "cell_type": "code",
   "execution_count": 18,
   "metadata": {},
   "outputs": [],
   "source": [
    "# list(Transliterator.getAvailableIDs())"
   ]
  },
  {
   "cell_type": "code",
   "execution_count": 16,
   "metadata": {},
   "outputs": [],
   "source": [
    "# dir(Transliterator)\n"
   ]
  },
  {
   "cell_type": "code",
   "execution_count": 19,
   "metadata": {},
   "outputs": [
    {
     "data": {
      "text/plain": [
       "'ສາທາລະນະລັດ ປະຊາທິປະໄຕ ປະຊາຊົນ ລາວ'"
      ]
     },
     "execution_count": 19,
     "metadata": {},
     "output_type": "execute_result"
    }
   ],
   "source": [
    "brk = Transliterator.createInstance('Any-BreakInternal')\n",
    "s = \"ສາທາລະນະລັດ ປະຊາທິປະໄຕ ປະຊາຊົນລາວ\"\n",
    "brk.transliterate(s)"
   ]
  },
  {
   "cell_type": "code",
   "execution_count": 20,
   "metadata": {},
   "outputs": [
    {
     "data": {
      "text/plain": [
       "'::NFD;\\n::Thai-ThaiSemi;\\n::Any-BreakInternal;\\n::Thai-ThaiLogical;\\n::ThaiLogical-Latin;\\n::NFC;'"
      ]
     },
     "execution_count": 20,
     "metadata": {},
     "output_type": "execute_result"
    }
   ],
   "source": [
    "t2l = Transliterator.createInstance('Thai-Latin')\n",
    "t2l_rules = t2l.toRules()\n",
    "t2l_rules"
   ]
  },
  {
   "cell_type": "code",
   "execution_count": 26,
   "metadata": {},
   "outputs": [
    {
     "data": {
      "text/plain": [
       "'::NFD;\\n::Latin-ThaiLogical;\\n::ThaiLogical-Thai;\\n::NFC;'"
      ]
     },
     "execution_count": 26,
     "metadata": {},
     "output_type": "execute_result"
    }
   ],
   "source": [
    "l2t = Transliterator.createInstance('Thai-Latin', UTransDirection.REVERSE)\n",
    "l2t_rules = l2t.toRules()\n",
    "l2t_rules"
   ]
  }
 ],
 "metadata": {
  "interpreter": {
   "hash": "4ebdf5e1f3d66fb785de808ac12a41a47c536345a13f642861acc57be3985254"
  },
  "kernelspec": {
   "display_name": "Python 3.9.7 ('libr')",
   "language": "python",
   "name": "python3"
  },
  "language_info": {
   "codemirror_mode": {
    "name": "ipython",
    "version": 3
   },
   "file_extension": ".py",
   "mimetype": "text/x-python",
   "name": "python",
   "nbconvert_exporter": "python",
   "pygments_lexer": "ipython3",
   "version": "3.9.7"
  },
  "orig_nbformat": 4
 },
 "nbformat": 4,
 "nbformat_minor": 2
}
