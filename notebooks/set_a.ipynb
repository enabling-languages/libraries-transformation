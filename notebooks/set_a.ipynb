{
  "cells": [
    {
      "cell_type": "code",
      "execution_count": null,
      "metadata": {
        "colab": {
          "base_uri": "https://localhost:8080/"
        },
        "id": "pXrb3MqJ8Qvs",
        "outputId": "49483524-f170-41ec-b241-c97871a6d51b"
      },
      "outputs": [],
      "source": [
        "from google.colab import drive\n",
        "drive.mount('/content/gdrive')\n",
        "import pandas as pd"
      ]
    },
    {
      "cell_type": "code",
      "execution_count": null,
      "metadata": {
        "colab": {
          "base_uri": "https://localhost:8080/",
          "height": 285
        },
        "id": "5vCel7gPG9pj",
        "outputId": "2a8ddc7f-36a0-4c70-ab78-78dad35de118"
      },
      "outputs": [],
      "source": [
        "df = pd.read_feather(\"/content/gdrive/MyDrive/Colab Notebooks/Yale/set_a.ftr\")\n",
        "df_seg = pd.read_feather(\"/content/gdrive/MyDrive/Colab Notebooks/Yale/set_a_seg.ftr\")\n",
        "df.head(5)"
      ]
    },
    {
      "cell_type": "code",
      "execution_count": null,
      "metadata": {
        "colab": {
          "base_uri": "https://localhost:8080/"
        },
        "id": "AEJsecb5LCmm",
        "outputId": "344b622b-7f3a-447c-8ef5-493fedc7ca78"
      },
      "outputs": [],
      "source": [
        "df.shape"
      ]
    },
    {
      "cell_type": "markdown",
      "metadata": {
        "id": "wj0qCEkkG8hA"
      },
      "source": [
        "Rows that retain basic Latin letters in the transliterated (Latn > Laoo) text:"
      ]
    },
    {
      "cell_type": "code",
      "execution_count": null,
      "metadata": {
        "colab": {
          "base_uri": "https://localhost:8080/"
        },
        "id": "RYVIcpw8LXWz",
        "outputId": "33f5e204-053b-43ad-c8ed-47b51b39885f"
      },
      "outputs": [],
      "source": [
        "df_latin = df[df['transliterated'].str.contains(r'[a-zA-Z]', regex=True)]\n",
        "df_latin.shape"
      ]
    },
    {
      "cell_type": "code",
      "execution_count": null,
      "metadata": {
        "colab": {
          "base_uri": "https://localhost:8080/"
        },
        "id": "djXnydLuT0wq",
        "outputId": "f07db70c-125d-469b-fad1-fe8594e6356a"
      },
      "outputs": [],
      "source": [
        "n = len(pd.unique(df_latin['bibid']))\n",
        "print(n, \"records\")"
      ]
    },
    {
      "cell_type": "code",
      "execution_count": null,
      "metadata": {
        "id": "NTmNgNkYCvhZ"
      },
      "outputs": [],
      "source": [
        "def translit_results(row): \n",
        "  print(df_latin.iloc[int(row)]['bibid'])\n",
        "  print(df_latin.iloc[int(row)]['latin'])\n",
        "  print(df_latin.iloc[int(row)]['lao'])\n",
        "  print(df_latin.iloc[int(row)]['transliterated'])"
      ]
    },
    {
      "cell_type": "markdown",
      "metadata": {
        "id": "5w5htTZAHegW"
      },
      "source": [
        "## Results\n",
        "\n",
        "### Record 13885494"
      ]
    },
    {
      "cell_type": "code",
      "execution_count": null,
      "metadata": {
        "colab": {
          "base_uri": "https://localhost:8080/"
        },
        "id": "VjtCiFeOSky1",
        "outputId": "a7e79627-79b9-4d64-ebb0-b9d50ede6736"
      },
      "outputs": [],
      "source": [
        "# specify a row index from 0 to 200.\n",
        "#row = int(input('Enter required row: '))\n",
        "translit_results(0)"
      ]
    },
    {
      "cell_type": "markdown",
      "metadata": {
        "id": "gHbxwCJCQLUH"
      },
      "source": [
        "In the romanisation of the original Lao __ແຫ່ງ__  is represented by __hæng__, but the transliteration dictionary maps __ແຫ່ງ__ to __hǣng__ instead."
      ]
    },
    {
      "cell_type": "code",
      "execution_count": null,
      "metadata": {
        "colab": {
          "base_uri": "https://localhost:8080/"
        },
        "id": "qrdmus-qSYEi",
        "outputId": "032c46f0-f5b4-4069-c9fb-403b366500b3"
      },
      "outputs": [],
      "source": [
        "translit_results(1)"
      ]
    },
    {
      "cell_type": "markdown",
      "metadata": {
        "id": "P_bcPRXGTAN7"
      },
      "source": [
        "Use of English exonym (Laos) rather than the Lao endonym.\n",
        "\n",
        "### Record 13570745"
      ]
    },
    {
      "cell_type": "code",
      "execution_count": null,
      "metadata": {
        "colab": {
          "base_uri": "https://localhost:8080/"
        },
        "id": "Flsg7O-iSp0X",
        "outputId": "c2bfcf9e-eda1-4b21-a998-02aba9d3d147"
      },
      "outputs": [],
      "source": [
        "translit_results(2)"
      ]
    },
    {
      "cell_type": "markdown",
      "metadata": {
        "id": "bDqZ20aFVPU1"
      },
      "source": [
        "The name __Phǭnkasœ̄msuk__ is not in the dictionary. It may be impractical to have names covered in the transliteration dictionary.\n",
        "\n",
        "One approach may be to develop the romanisation table mapping and use unsupported names as test cases. It the mapping can correctly convert them, then an entry isn't needed in the transliteration dictionary.\n",
        "\n",
        "`Phǭnkasœ̄msuk > ພອນກະເສີມສຸກ`"
      ]
    },
    {
      "cell_type": "code",
      "execution_count": null,
      "metadata": {
        "colab": {
          "base_uri": "https://localhost:8080/",
          "height": 172
        },
        "id": "cDLiToiwgf1c",
        "outputId": "d8e16367-ee82-4917-d958-8f0017c2caaa"
      },
      "outputs": [],
      "source": [
        "translit_results(3)"
      ]
    },
    {
      "cell_type": "code",
      "execution_count": null,
      "metadata": {
        "id": "eNC27wU6giw8"
      },
      "outputs": [],
      "source": [
        "translit_results(4)"
      ]
    },
    {
      "cell_type": "code",
      "execution_count": null,
      "metadata": {},
      "outputs": [],
      "source": [
        "translit_results(5)\n"
      ]
    },
    {
      "cell_type": "code",
      "execution_count": null,
      "metadata": {},
      "outputs": [],
      "source": [
        "translit_results(6)\n"
      ]
    },
    {
      "cell_type": "code",
      "execution_count": null,
      "metadata": {},
      "outputs": [],
      "source": [
        "translit_results(7)\n"
      ]
    },
    {
      "cell_type": "code",
      "execution_count": null,
      "metadata": {},
      "outputs": [],
      "source": [
        "translit_results(8)\n"
      ]
    },
    {
      "cell_type": "code",
      "execution_count": null,
      "metadata": {},
      "outputs": [],
      "source": [
        "translit_results(9)\n"
      ]
    },
    {
      "cell_type": "code",
      "execution_count": null,
      "metadata": {},
      "outputs": [],
      "source": [
        "translit_results(10)\n"
      ]
    },
    {
      "cell_type": "code",
      "execution_count": null,
      "metadata": {},
      "outputs": [],
      "source": [
        "translit_results(11)\n"
      ]
    },
    {
      "cell_type": "code",
      "execution_count": null,
      "metadata": {},
      "outputs": [],
      "source": [
        "translit_results(12)\n"
      ]
    },
    {
      "cell_type": "code",
      "execution_count": null,
      "metadata": {},
      "outputs": [],
      "source": [
        "translit_results(13)\n"
      ]
    },
    {
      "cell_type": "code",
      "execution_count": null,
      "metadata": {},
      "outputs": [],
      "source": [
        "translit_results(14)\n"
      ]
    },
    {
      "cell_type": "code",
      "execution_count": null,
      "metadata": {},
      "outputs": [],
      "source": [
        "translit_results(15)\n"
      ]
    },
    {
      "cell_type": "code",
      "execution_count": null,
      "metadata": {},
      "outputs": [],
      "source": [
        "translit_results(16)\n"
      ]
    },
    {
      "cell_type": "code",
      "execution_count": null,
      "metadata": {},
      "outputs": [],
      "source": [
        "translit_results(17)\n"
      ]
    },
    {
      "cell_type": "code",
      "execution_count": null,
      "metadata": {},
      "outputs": [],
      "source": [
        "translit_results(18)\n"
      ]
    },
    {
      "cell_type": "code",
      "execution_count": null,
      "metadata": {},
      "outputs": [],
      "source": [
        "translit_results(19)\n"
      ]
    },
    {
      "cell_type": "code",
      "execution_count": null,
      "metadata": {},
      "outputs": [],
      "source": [
        "translit_results(20)\n"
      ]
    },
    {
      "cell_type": "code",
      "execution_count": null,
      "metadata": {},
      "outputs": [],
      "source": [
        "translit_results(21)\n"
      ]
    },
    {
      "cell_type": "code",
      "execution_count": null,
      "metadata": {},
      "outputs": [],
      "source": [
        "translit_results(22)\n"
      ]
    },
    {
      "cell_type": "code",
      "execution_count": null,
      "metadata": {},
      "outputs": [],
      "source": [
        "translit_results(23)\n"
      ]
    },
    {
      "cell_type": "code",
      "execution_count": null,
      "metadata": {},
      "outputs": [],
      "source": [
        "translit_results(24)\n"
      ]
    },
    {
      "cell_type": "code",
      "execution_count": null,
      "metadata": {},
      "outputs": [],
      "source": [
        "translit_results(25)\n"
      ]
    },
    {
      "cell_type": "code",
      "execution_count": null,
      "metadata": {},
      "outputs": [],
      "source": [
        "translit_results(26)\n"
      ]
    },
    {
      "cell_type": "code",
      "execution_count": null,
      "metadata": {},
      "outputs": [],
      "source": [
        "translit_results(27)\n"
      ]
    },
    {
      "cell_type": "code",
      "execution_count": null,
      "metadata": {},
      "outputs": [],
      "source": [
        "translit_results(28)\n"
      ]
    },
    {
      "cell_type": "code",
      "execution_count": null,
      "metadata": {},
      "outputs": [],
      "source": [
        "translit_results(29)\n"
      ]
    },
    {
      "cell_type": "code",
      "execution_count": null,
      "metadata": {},
      "outputs": [],
      "source": [
        "translit_results(20)\n"
      ]
    },
    {
      "cell_type": "code",
      "execution_count": null,
      "metadata": {},
      "outputs": [],
      "source": [
        "translit_results(31)\n"
      ]
    },
    {
      "cell_type": "code",
      "execution_count": null,
      "metadata": {},
      "outputs": [],
      "source": [
        "translit_results(32)\n"
      ]
    },
    {
      "cell_type": "code",
      "execution_count": null,
      "metadata": {},
      "outputs": [],
      "source": [
        "translit_results(33)\n"
      ]
    },
    {
      "cell_type": "code",
      "execution_count": null,
      "metadata": {},
      "outputs": [],
      "source": [
        "translit_results(34)\n"
      ]
    },
    {
      "cell_type": "code",
      "execution_count": null,
      "metadata": {},
      "outputs": [],
      "source": [
        "translit_results(35)\n"
      ]
    },
    {
      "cell_type": "code",
      "execution_count": null,
      "metadata": {},
      "outputs": [],
      "source": [
        "translit_results(36)\n"
      ]
    },
    {
      "cell_type": "code",
      "execution_count": null,
      "metadata": {},
      "outputs": [],
      "source": [
        "translit_results(37)\n"
      ]
    },
    {
      "cell_type": "code",
      "execution_count": null,
      "metadata": {},
      "outputs": [],
      "source": [
        "translit_results(38)\n"
      ]
    },
    {
      "cell_type": "code",
      "execution_count": null,
      "metadata": {},
      "outputs": [],
      "source": [
        "translit_results(39)\n"
      ]
    },
    {
      "cell_type": "code",
      "execution_count": null,
      "metadata": {},
      "outputs": [],
      "source": [
        "translit_results(40)\n"
      ]
    },
    {
      "cell_type": "code",
      "execution_count": null,
      "metadata": {},
      "outputs": [],
      "source": [
        "translit_results(41)\n"
      ]
    },
    {
      "cell_type": "code",
      "execution_count": null,
      "metadata": {},
      "outputs": [],
      "source": [
        "translit_results(42)\n"
      ]
    },
    {
      "cell_type": "code",
      "execution_count": null,
      "metadata": {},
      "outputs": [],
      "source": [
        "translit_results(43)\n"
      ]
    },
    {
      "cell_type": "code",
      "execution_count": null,
      "metadata": {},
      "outputs": [],
      "source": [
        "translit_results(44)\n"
      ]
    },
    {
      "cell_type": "code",
      "execution_count": null,
      "metadata": {},
      "outputs": [],
      "source": [
        "translit_results(45)\n"
      ]
    },
    {
      "cell_type": "code",
      "execution_count": null,
      "metadata": {},
      "outputs": [],
      "source": [
        "translit_results(46)\n"
      ]
    },
    {
      "cell_type": "code",
      "execution_count": null,
      "metadata": {},
      "outputs": [],
      "source": [
        "translit_results(47)\n"
      ]
    },
    {
      "cell_type": "code",
      "execution_count": null,
      "metadata": {},
      "outputs": [],
      "source": [
        "translit_results(48)\n"
      ]
    },
    {
      "cell_type": "code",
      "execution_count": null,
      "metadata": {},
      "outputs": [],
      "source": [
        "translit_results(49)\n"
      ]
    },
    {
      "cell_type": "code",
      "execution_count": null,
      "metadata": {},
      "outputs": [],
      "source": [
        "translit_results(50)\n"
      ]
    },
    {
      "cell_type": "code",
      "execution_count": null,
      "metadata": {},
      "outputs": [],
      "source": [
        "translit_results(51)\n"
      ]
    },
    {
      "cell_type": "code",
      "execution_count": null,
      "metadata": {},
      "outputs": [],
      "source": [
        "translit_results(52)\n"
      ]
    },
    {
      "cell_type": "code",
      "execution_count": null,
      "metadata": {},
      "outputs": [],
      "source": [
        "translit_results(53)\n"
      ]
    },
    {
      "cell_type": "code",
      "execution_count": null,
      "metadata": {},
      "outputs": [],
      "source": [
        "translit_results(54)\n"
      ]
    },
    {
      "cell_type": "code",
      "execution_count": null,
      "metadata": {},
      "outputs": [],
      "source": [
        "translit_results(55)\n"
      ]
    },
    {
      "cell_type": "code",
      "execution_count": null,
      "metadata": {},
      "outputs": [],
      "source": [
        "translit_results(56)\n"
      ]
    },
    {
      "cell_type": "code",
      "execution_count": null,
      "metadata": {},
      "outputs": [],
      "source": [
        "translit_results(57)\n"
      ]
    },
    {
      "cell_type": "code",
      "execution_count": null,
      "metadata": {},
      "outputs": [],
      "source": [
        "translit_results(58)\n"
      ]
    },
    {
      "cell_type": "code",
      "execution_count": null,
      "metadata": {},
      "outputs": [],
      "source": [
        "translit_results(59)\n"
      ]
    },
    {
      "cell_type": "code",
      "execution_count": null,
      "metadata": {},
      "outputs": [],
      "source": [
        "translit_results(60)\n"
      ]
    },
    {
      "cell_type": "code",
      "execution_count": null,
      "metadata": {},
      "outputs": [],
      "source": [
        "translit_results(61)\n"
      ]
    },
    {
      "cell_type": "code",
      "execution_count": null,
      "metadata": {},
      "outputs": [],
      "source": [
        "translit_results(62)\n"
      ]
    },
    {
      "cell_type": "code",
      "execution_count": null,
      "metadata": {},
      "outputs": [],
      "source": [
        "translit_results(63)\n"
      ]
    },
    {
      "cell_type": "code",
      "execution_count": null,
      "metadata": {},
      "outputs": [],
      "source": [
        "translit_results(64)\n"
      ]
    },
    {
      "cell_type": "code",
      "execution_count": null,
      "metadata": {},
      "outputs": [],
      "source": [
        "translit_results(65)\n"
      ]
    },
    {
      "cell_type": "code",
      "execution_count": null,
      "metadata": {},
      "outputs": [],
      "source": [
        "translit_results(66)\n"
      ]
    },
    {
      "cell_type": "code",
      "execution_count": null,
      "metadata": {},
      "outputs": [],
      "source": [
        "translit_results(67)\n"
      ]
    },
    {
      "cell_type": "code",
      "execution_count": null,
      "metadata": {},
      "outputs": [],
      "source": [
        "translit_results(68)\n"
      ]
    },
    {
      "cell_type": "code",
      "execution_count": null,
      "metadata": {},
      "outputs": [],
      "source": [
        "translit_results(69)\n"
      ]
    },
    {
      "cell_type": "code",
      "execution_count": null,
      "metadata": {},
      "outputs": [],
      "source": [
        "translit_results(70)\n"
      ]
    },
    {
      "cell_type": "code",
      "execution_count": null,
      "metadata": {},
      "outputs": [],
      "source": [
        "translit_results(71)\n"
      ]
    },
    {
      "cell_type": "code",
      "execution_count": null,
      "metadata": {},
      "outputs": [],
      "source": [
        "translit_results(72)\n"
      ]
    },
    {
      "cell_type": "code",
      "execution_count": null,
      "metadata": {},
      "outputs": [],
      "source": [
        "translit_results(73)\n"
      ]
    },
    {
      "cell_type": "code",
      "execution_count": null,
      "metadata": {},
      "outputs": [],
      "source": []
    },
    {
      "cell_type": "code",
      "execution_count": null,
      "metadata": {},
      "outputs": [],
      "source": [
        "translit_results(74)\n"
      ]
    },
    {
      "cell_type": "code",
      "execution_count": null,
      "metadata": {},
      "outputs": [],
      "source": [
        "translit_results(75)\n"
      ]
    },
    {
      "cell_type": "code",
      "execution_count": null,
      "metadata": {},
      "outputs": [],
      "source": [
        "translit_results(76)\n"
      ]
    },
    {
      "cell_type": "code",
      "execution_count": null,
      "metadata": {},
      "outputs": [],
      "source": [
        "translit_results(77)\n"
      ]
    },
    {
      "cell_type": "code",
      "execution_count": null,
      "metadata": {},
      "outputs": [],
      "source": [
        "translit_results(78)\n"
      ]
    },
    {
      "cell_type": "code",
      "execution_count": null,
      "metadata": {},
      "outputs": [],
      "source": [
        "translit_results(79)\n"
      ]
    },
    {
      "cell_type": "code",
      "execution_count": null,
      "metadata": {},
      "outputs": [],
      "source": [
        "translit_results(80)\n",
        "translit_results(81)\n",
        "translit_results(82)\n",
        "translit_results(83)\n",
        "translit_results(84)\n",
        "translit_results(85)\n",
        "translit_results(86)\n",
        "translit_results(87)\n",
        "translit_results(88)\n",
        "translit_results(89)\n",
        "translit_results(90)\n",
        "translit_results(91)\n",
        "translit_results(92)\n",
        "translit_results(93)\n",
        "translit_results(94)\n",
        "translit_results(95)\n",
        "translit_results(96)\n",
        "translit_results(97)\n",
        "translit_results(98)\n",
        "translit_results(99)\n",
        "translit_results(100)\n",
        "translit_results(101)\n",
        "translit_results(102)\n",
        "translit_results(103)\n",
        "translit_results(104)\n",
        "translit_results(105)\n",
        "translit_results(106)\n",
        "translit_results(107)\n",
        "translit_results(108)\n",
        "translit_results(109)\n",
        "translit_results(110)\n",
        "translit_results(111)\n",
        "translit_results(112)\n",
        "translit_results(113)\n",
        "translit_results(114)\n",
        "translit_results(115)\n",
        "translit_results(116)\n",
        "translit_results(117)\n",
        "translit_results(118)\n",
        "translit_results(119)\n",
        "translit_results(120)\n",
        "translit_results(121)\n",
        "translit_results(122)\n",
        "translit_results(123)\n",
        "translit_results(124)\n",
        "translit_results(125)\n",
        "translit_results(126)\n",
        "translit_results(127)\n",
        "translit_results(128)\n",
        "translit_results(129)\n",
        "translit_results(120)\n",
        "translit_results(131)\n",
        "translit_results(132)\n",
        "translit_results(133)\n",
        "translit_results(134)\n",
        "translit_results(135)\n",
        "translit_results(136)\n",
        "translit_results(137)\n",
        "translit_results(138)\n",
        "translit_results(139)\n",
        "translit_results(140)\n",
        "translit_results(141)\n",
        "translit_results(142)\n",
        "translit_results(143)\n",
        "translit_results(144)\n",
        "translit_results(145)\n",
        "translit_results(146)\n",
        "translit_results(147)\n",
        "translit_results(148)\n",
        "translit_results(149)\n",
        "translit_results(150)\n",
        "translit_results(151)\n",
        "translit_results(152)\n",
        "translit_results(153)\n",
        "translit_results(154)\n",
        "translit_results(155)\n",
        "translit_results(156)\n",
        "translit_results(157)\n",
        "translit_results(158)\n",
        "translit_results(159)\n",
        "translit_results(160)\n",
        "translit_results(161)\n",
        "translit_results(162)\n",
        "translit_results(163)\n",
        "translit_results(164)\n",
        "translit_results(165)\n",
        "translit_results(166)\n",
        "translit_results(167)\n",
        "translit_results(168)\n",
        "translit_results(169)\n",
        "translit_results(170)\n",
        "translit_results(171)\n",
        "translit_results(172)\n",
        "translit_results(173)\n",
        "translit_results(174)\n",
        "translit_results(175)\n",
        "translit_results(176)\n",
        "translit_results(177)\n",
        "translit_results(178)\n",
        "translit_results(179)\n",
        "translit_results(180)\n",
        "translit_results(181)\n",
        "translit_results(182)\n",
        "translit_results(183)\n",
        "translit_results(184)\n",
        "translit_results(185)\n",
        "translit_results(186)\n",
        "translit_results(187)\n",
        "translit_results(188)\n",
        "translit_results(189)\n",
        "translit_results(190)\n",
        "translit_results(191)\n",
        "translit_results(192)\n",
        "translit_results(193)\n",
        "translit_results(194)\n",
        "translit_results(195)\n",
        "translit_results(196)\n",
        "translit_results(197)\n",
        "translit_results(198)\n",
        "translit_results(199)\n",
        "translit_results(200)"
      ]
    },
    {
      "cell_type": "markdown",
      "metadata": {
        "id": "MFYUEp8XEZXN"
      },
      "source": [
        "## Edge cases\n",
        "\n",
        "### English words in Lao strings\n",
        "\n",
        "### Thai and Lao entries"
      ]
    },
    {
      "cell_type": "code",
      "execution_count": null,
      "metadata": {
        "colab": {
          "base_uri": "https://localhost:8080/"
        },
        "id": "4GD0hTPdDDbE",
        "outputId": "9db679f6-ec02-41bf-ef9b-8e5dce48c2ec"
      },
      "outputs": [],
      "source": [
        "# df[df['transliterated'].str.contains(r'[\\u0e00-\\u0e7e]', regex=True)].shape\n",
        "df[df['lao'].str.contains(r'[\\u0e00-\\u0e7e]', regex=True)].shape"
      ]
    },
    {
      "cell_type": "markdown",
      "metadata": {
        "id": "iHcGi8SwEQNJ"
      },
      "source": [
        "### Multiple languages"
      ]
    },
    {
      "cell_type": "code",
      "execution_count": null,
      "metadata": {
        "colab": {
          "base_uri": "https://localhost:8080/"
        },
        "id": "0xcb9eIipaIX",
        "outputId": "7a08aea3-01f1-45bb-b924-ee949d7fba6f"
      },
      "outputs": [],
      "source": [
        "\n",
        "df_mixed = df[df['transliterated'].str.contains(r'[=]', regex=True)]\n",
        "df_mixed.shape"
      ]
    },
    {
      "cell_type": "code",
      "execution_count": null,
      "metadata": {
        "colab": {
          "base_uri": "https://localhost:8080/",
          "height": 525
        },
        "id": "pWyIs8APqSNC",
        "outputId": "63a802da-cc0a-4cb6-e1cf-377ea579e48b"
      },
      "outputs": [],
      "source": [
        "df_mixed"
      ]
    },
    {
      "cell_type": "code",
      "execution_count": null,
      "metadata": {
        "colab": {
          "base_uri": "https://localhost:8080/"
        },
        "id": "22FPRShWqLki",
        "outputId": "45ae4678-4c90-4721-be90-6516b1c31627"
      },
      "outputs": [],
      "source": [
        "import regex as re\n",
        "tep = df_mixed.iloc[1]['latin']\n",
        "tep_list = tep.split(\" = \")\n",
        "new_tep = []\n",
        "for i in tep_list:\n",
        "    if bool(re.search('[\\u0328\\u0304]', i)):\n",
        "      i = \"XXXXX\"\n",
        "    new_tep.append(i)\n",
        "tep = \" = \".join(new_tep)\n",
        "print(tep)\n",
        "\n",
        "# https://stackoverflow.com/questions/54618102/splitting-a-string-in-a-list-to-find-and-replace-elements-in-python/54618338"
      ]
    },
    {
      "cell_type": "markdown",
      "metadata": {
        "id": "uRm62-bOuLwX"
      },
      "source": [
        "Search for occurance of macron or hacek characters in list items\n"
      ]
    },
    {
      "cell_type": "code",
      "execution_count": null,
      "metadata": {
        "id": "aJLCvoQ7uKWD"
      },
      "outputs": [],
      "source": []
    }
  ],
  "metadata": {
    "colab": {
      "collapsed_sections": [],
      "name": "set_a.ipynb",
      "provenance": []
    },
    "kernelspec": {
      "display_name": "Python 3",
      "name": "python3"
    },
    "language_info": {
      "codemirror_mode": {
        "name": "ipython",
        "version": 3
      },
      "file_extension": ".py",
      "mimetype": "text/x-python",
      "name": "python",
      "nbconvert_exporter": "python",
      "pygments_lexer": "ipython3",
      "version": "3.9.7"
    }
  },
  "nbformat": 4,
  "nbformat_minor": 0
}
