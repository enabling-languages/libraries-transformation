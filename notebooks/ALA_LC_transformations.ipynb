{
  "nbformat": 4,
  "nbformat_minor": 0,
  "metadata": {
    "colab": {
      "name": "ALA-LC-transformations.ipynb",
      "provenance": []
    },
    "kernelspec": {
      "name": "python3",
      "display_name": "Python 3"
    },
    "language_info": {
      "name": "python"
    }
  },
  "cells": [
    {
      "cell_type": "markdown",
      "source": [
        "# Latin to Lao transformation\n",
        "\n",
        "[![Open In Colab](https://colab.research.google.com/assets/colab-badge.svg)](https://colab.research.google.com/github/enabling-languages/libraries-transformation/blob/main/notebooks/ALA-LC-transformations.ipynb)\n"
      ],
      "metadata": {
        "id": "kgPO1ufOdMzH"
      }
    },
    {
      "cell_type": "markdown",
      "source": [
        "## Setup"
      ],
      "metadata": {
        "id": "musQ2g7IfBfy"
      }
    },
    {
      "cell_type": "code",
      "execution_count": 1,
      "metadata": {
        "cellView": "form",
        "id": "-a8TtPff1TUl"
      },
      "outputs": [],
      "source": [
        "#@title\n",
        "%%capture\n",
        "!wget -q https://raw.githubusercontent.com/enabling-languages/libraries-transformation/main/el_transliteration.py -O /content/el_transliteration.py\n",
        "!wget -q https://raw.githubusercontent.com/enabling-languages/libraries-transformation/main/el_utils.py -O /content/el_utils.py\n",
        "!pip install -q unicodedataplus\n",
        "!pip install -q regex\n",
        "!pip install -q grapheme\n",
        "!pip install -q laonlp\n",
        "!pip install -q pythainlp\n",
        "!pip install -q python-crfsuite\n",
        "!pip install -q pyicu\n",
        "import el_transliteration\n",
        "import el_utils as elu"
      ]
    },
    {
      "cell_type": "markdown",
      "source": [
        "##  Transformation"
      ],
      "metadata": {
        "id": "yH3xumO4fGne"
      }
    },
    {
      "cell_type": "code",
      "source": [
        "input_str = input(\"String to transform: \")\n",
        "output_str = elu.el_transliterate(input_str, lang=\"lo\", dir=\"reverse\", nf=\"nfd\")\n",
        "print(\"\\n\")\n",
        "print(input_str)\n",
        "print(output_str)"
      ],
      "metadata": {
        "id": "ybtAAvqu_eLI"
      },
      "execution_count": null,
      "outputs": []
    }
  ]
}