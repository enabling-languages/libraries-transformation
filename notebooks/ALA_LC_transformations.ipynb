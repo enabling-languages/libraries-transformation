{
  "cells": [
    {
      "cell_type": "markdown",
      "metadata": {
        "id": "kgPO1ufOdMzH"
      },
      "source": [
        "# Latin to Lao transformation\n",
        "\n",
        "[![Open In Colab](https://colab.research.google.com/assets/colab-badge.svg)](https://colab.research.google.com/github/enabling-languages/libraries-transformation/blob/main/notebooks/ALA-LC-transformations.ipynb)\n"
      ]
    },
    {
      "cell_type": "markdown",
      "metadata": {
        "id": "musQ2g7IfBfy"
      },
      "source": [
        "## Setup"
      ]
    },
    {
      "cell_type": "code",
      "execution_count": 1,
      "metadata": {
        "id": "eFuq1Zo_MAjy"
      },
      "outputs": [],
      "source": [
        "#%%capture\n",
        "try:\n",
        "  import google.colab\n",
        "  IN_COLAB = True\n",
        "except ImportError:\n",
        "  IN_COLAB = False\n",
        "if IN_COLAB:\n",
        "  try:\n",
        "    import el_utilities as elu\n",
        "  except ImportError:\n",
        "    !pip install -U git+https://github.com/enabling-languages/el_internationalisation.git#egg=el_internationalisation\n",
        "    !pip install -U git+https://github.com/enabling-languages/el_utilities.git#egg=el_utilities\n",
        "    import el_utilities as elu\n",
        "else:\n",
        "  import el_utilities as elu"
      ]
    },
    {
      "cell_type": "markdown",
      "metadata": {
        "id": "TVh-_93x51GX"
      },
      "source": [
        "## Configuration\n",
        "\n",
        "Normalisation form used in processing is set here. Use either NFM (Marc21), NFD or NFC"
      ]
    },
    {
      "cell_type": "code",
      "execution_count": 2,
      "metadata": {
        "id": "IH3RgmLa51rm"
      },
      "outputs": [],
      "source": [
        "DEFAULT_NORMALISATION_FORM: str = \"NFM\""
      ]
    },
    {
      "cell_type": "markdown",
      "metadata": {
        "id": "yH3xumO4fGne"
      },
      "source": [
        "##  Transformation"
      ]
    },
    {
      "cell_type": "markdown",
      "metadata": {
        "id": "bduOtrza6ATo"
      },
      "source": [
        "Type in number of fields you want to process, then press enter. \n",
        "\n",
        "If you only want one field, enter 1, or just leave empty, then press Enter."
      ]
    },
    {
      "cell_type": "code",
      "execution_count": null,
      "metadata": {
        "id": "wrRDcX086Bs9"
      },
      "outputs": [],
      "source": [
        "repetitions_input: str = input(\"Number of fields are required: \")\n",
        "repetitions: int = 1\n",
        "if repetitions_input:\n",
        "    repetitions = int(repetitions_input) if repetitions_input != \"0\" else 1"
      ]
    },
    {
      "cell_type": "markdown",
      "metadata": {
        "id": "lSAQg65p6KWb"
      },
      "source": [
        "Enter each string when prompted. You will be prompted as many times as you entered above. Results from each string displayed below."
      ]
    },
    {
      "cell_type": "code",
      "execution_count": null,
      "metadata": {
        "id": "MOawU9sVLP6T"
      },
      "outputs": [],
      "source": [
        "for n in range(0, repetitions):\n",
        "    latn_input_str: str = input(\"String to transform: \")\n",
        "    print(f'{latn_input_str}\\n{elu.el_transliterate(latn_input_str, lang=\"lo\", dir=\"reverse\", nf=DEFAULT_NORMALISATION_FORM)}\\n')"
      ]
    }
  ],
  "metadata": {
    "colab": {
      "collapsed_sections": [],
      "provenance": []
    },
    "kernelspec": {
      "display_name": "Python 3.8.1 ('el')",
      "language": "python",
      "name": "python3"
    },
    "language_info": {
      "codemirror_mode": {
        "name": "ipython",
        "version": 3
      },
      "file_extension": ".py",
      "mimetype": "text/x-python",
      "name": "python",
      "nbconvert_exporter": "python",
      "pygments_lexer": "ipython3",
      "version": "3.8.1"
    },
    "vscode": {
      "interpreter": {
        "hash": "bb12d0de9674b66c629d2bafada2ec4f6e6dba6d129e54dea4badc21502d54d3"
      }
    }
  },
  "nbformat": 4,
  "nbformat_minor": 0
}
