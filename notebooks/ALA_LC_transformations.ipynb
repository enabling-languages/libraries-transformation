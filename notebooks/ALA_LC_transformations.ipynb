{
  "cells": [
    {
      "cell_type": "markdown",
      "metadata": {
        "id": "kgPO1ufOdMzH"
      },
      "source": [
        "# Latin to Lao transformation\n",
        "\n",
        "[![Open In Colab](https://colab.research.google.com/assets/colab-badge.svg)](https://colab.research.google.com/github/enabling-languages/libraries-transformation/blob/main/notebooks/ALA_LC_transformations.ipynb)\n"
      ]
    },
    {
      "cell_type": "markdown",
      "metadata": {
        "id": "musQ2g7IfBfy"
      },
      "source": [
        "## Setup"
      ]
    },
    {
      "cell_type": "code",
      "execution_count": 1,
      "metadata": {
        "id": "eFuq1Zo_MAjy"
      },
      "outputs": [],
      "source": [
        "%%capture\n",
        "try:\n",
        "    import google.colab\n",
        "    IN_COLAB = True\n",
        "except ImportError:\n",
        "    IN_COLAB = False\n",
        "if IN_COLAB:\n",
        "    try:\n",
        "        import el_data as eld\n",
        "    except ImportError:\n",
        "        !pip install -U git+https://github.com/enabling-languages/el_data.git\n",
        "        import el_data as eld\n",
        "    try:\n",
        "        # import el_utilities as elu\n",
        "        import el_internationalisation as eli\n",
        "    except ImportError:\n",
        "        !pip install -U git+https://github.com/enabling-languages/el_internationalisation.git\n",
        "        # !pip install -U git+https://github.com/enabling-languages/el_utilities.git#egg=el_utilities\n",
        "        # import el_utilities as elu\n",
        "        import el_internationalisation as eli\n",
        "else:\n",
        "    # import el_utilities as elu\n",
        "    import el_data as eld\n",
        "    import el_internationalisation as eli\n",
        ""
      ]
    },
    {
      "cell_type": "markdown",
      "metadata": {
        "id": "TVh-_93x51GX"
      },
      "source": [
        "## Configuration\n",
        "\n",
        "Normalisation form used in processing is set here. Use either NFM (Marc21), NFD or NFC"
      ]
    },
    {
      "cell_type": "code",
      "execution_count": 2,
      "metadata": {
        "id": "IH3RgmLa51rm"
      },
      "outputs": [],
      "source": [
        "DEFAULT_NORMALISATION_FORM: str = \"NFM\""
      ]
    },
    {
      "cell_type": "markdown",
      "metadata": {
        "id": "yH3xumO4fGne"
      },
      "source": [
        "##  Transformation"
      ]
    },
    {
      "cell_type": "markdown",
      "metadata": {
        "id": "bduOtrza6ATo"
      },
      "source": [
        "Type in number of fields you want to process, then press enter.\n",
        "\n",
        "If you only want one field, enter 1, or just leave empty, then press Enter."
      ]
    },
    {
      "cell_type": "code",
      "execution_count": 3,
      "metadata": {
        "id": "wrRDcX086Bs9",
        "outputId": "8b159fd5-bcca-4392-d796-f3c89f4a5de5",
        "colab": {
          "base_uri": "https://localhost:8080/"
        }
      },
      "outputs": [
        {
          "name": "stdout",
          "output_type": "stream",
          "text": [
            "Number of fields are required: 1\n"
          ]
        }
      ],
      "source": [
        "repetitions_input: str = input(\"Number of fields are required: \")\n",
        "repetitions: int = 1\n",
        "if repetitions_input:\n",
        "    repetitions = int(repetitions_input) if repetitions_input != \"0\" else 1"
      ]
    },
    {
      "cell_type": "markdown",
      "metadata": {
        "id": "lSAQg65p6KWb"
      },
      "source": [
        "Enter each string when prompted. You will be prompted as many times as you entered above. Results from each string displayed below."
      ]
    },
    {
      "cell_type": "code",
      "execution_count": 6,
      "metadata": {
        "id": "MOawU9sVLP6T",
        "outputId": "a252fd33-aa03-4735-e485-e21c8686d195",
        "colab": {
          "base_uri": "https://localhost:8080/"
        }
      },
      "outputs": [
        {
          "output_type": "stream",
          "name": "stdout",
          "text": [
            "String to transform: Vatchanānukom Lāo - Kaolī\n",
            "Vatchanānukom Lāo - Kaolī\n",
            "ວັດຈະນານຸກົມ ລາວ - kaolī\n",
            "\n"
          ]
        }
      ],
      "source": [
        "for n in range(0, repetitions):\n",
        "    latn_input_str: str = input(\"String to transform: \")\n",
        "    # print(f'{latn_input_str}\\n{elu.el_transliterate(latn_input_str, lang=\"lo\", dir=\"reverse\", nf=DEFAULT_NORMALISATION_FORM)}\\n')\n",
        "    print(f'{latn_input_str}\\n{eli.el_transliterate(latn_input_str, lang=\"lo\", dir=\"reverse\", nf=DEFAULT_NORMALISATION_FORM)}\\n')"
      ]
    },
    {
      "cell_type": "code",
      "source": [],
      "metadata": {
        "id": "i7hEl-TJ6SPQ"
      },
      "execution_count": null,
      "outputs": []
    }
  ],
  "metadata": {
    "colab": {
      "provenance": []
    },
    "kernelspec": {
      "display_name": "Python 3 (ipykernel)",
      "language": "python",
      "name": "python3"
    },
    "language_info": {
      "codemirror_mode": {
        "name": "ipython",
        "version": 3
      },
      "file_extension": ".py",
      "mimetype": "text/x-python",
      "name": "python",
      "nbconvert_exporter": "python",
      "pygments_lexer": "ipython3",
      "version": "3.12.0"
    },
    "vscode": {
      "interpreter": {
        "hash": "4ebdf5e1f3d66fb785de808ac12a41a47c536345a13f642861acc57be3985254"
      }
    }
  },
  "nbformat": 4,
  "nbformat_minor": 0
}