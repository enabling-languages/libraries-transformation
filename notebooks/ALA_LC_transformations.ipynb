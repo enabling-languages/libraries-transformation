{
  "cells": [
    {
      "cell_type": "markdown",
      "metadata": {
        "id": "kgPO1ufOdMzH"
      },
      "source": [
        "# Latin to Lao transformation\n",
        "\n",
        "[![Open In Colab](https://colab.research.google.com/assets/colab-badge.svg)](https://colab.research.google.com/github/enabling-languages/libraries-transformation/blob/main/notebooks/ALA_LC_transformations.ipynb)"
      ]
    },
    {
      "cell_type": "markdown",
      "metadata": {
        "id": "musQ2g7IfBfy"
      },
      "source": [
        "## Setup"
      ]
    },
    {
      "cell_type": "code",
      "execution_count": null,
      "metadata": {
        "id": "-a8TtPff1TUl"
      },
      "outputs": [],
      "source": [
        "#@title\n",
        "%%capture\n",
        "!wget -q https://raw.githubusercontent.com/enabling-languages/libraries-transformation/main/el_transliteration.py -O /content/el_transliteration.py\n",
        "!wget -q https://raw.githubusercontent.com/enabling-languages/libraries-transformation/main/el_utils.py -O /content/el_utils.py\n",
        "!pip install -q unicodedataplus\n",
        "!pip install -q regex\n",
        "!pip install -q grapheme\n",
        "!pip install -q laonlp\n",
        "!pip install -q pythainlp\n",
        "!pip install -q python-crfsuite\n",
        "!pip install -q pyicu\n",
        "import el_transliteration\n",
        "import el_utils as elu"
      ]
    },
    {
      "cell_type": "markdown",
      "metadata": {
        "id": "yH3xumO4fGne"
      },
      "source": [
        "## Latin to Lao transformation"
      ]
    },
    {
      "cell_type": "code",
      "execution_count": null,
      "metadata": {
        "id": "ybtAAvqu_eLI"
      },
      "outputs": [],
      "source": [
        "latn_input_str = input(\"String to transform: \")\n",
        "laoo_output_str = elu.el_transliterate(latn_input_str, lang=\"lo\", dir=\"reverse\", nf=\"nfd\")\n",
        "print(\"\\n\")\n",
        "print(latn_input_str)\n",
        "print(laoo_output_str)"
      ]
    },
    {
      "cell_type": "markdown",
      "metadata": {
        "id": "tNqLxHZswI1L"
      },
      "source": [
        "## Lao to Latin transformation"
      ]
    },
    {
      "cell_type": "code",
      "execution_count": null,
      "metadata": {
        "id": "vW1XngYSwNMX"
      },
      "outputs": [],
      "source": [
        "laoo_input_str = input(\"String to transform: \")\n",
        "latn_output_str = elu.el_transliterate(laoo_input_str, lang=\"lo\", dir=\"forward\", nf=\"nfd\")\n",
        "print(\"\\n\")\n",
        "print(laoo_input_str)\n",
        "print(latn_output_str)"
      ]
    }
  ],
  "metadata": {
    "colab": {
      "name": "ALA-LC-transformations.ipynb",
      "provenance": []
    },
    "kernelspec": {
      "display_name": "Python 3",
      "name": "python3"
    },
    "language_info": {
      "name": "python"
    }
  },
  "nbformat": 4,
  "nbformat_minor": 0
}
