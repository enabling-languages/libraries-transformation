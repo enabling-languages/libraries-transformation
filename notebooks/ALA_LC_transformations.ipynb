{
  "cells": [
    {
      "cell_type": "markdown",
      "metadata": {
        "id": "kgPO1ufOdMzH"
      },
      "source": [
        "# Latin to Lao transformation\n",
        "\n",
        "[![Open In Colab](https://colab.research.google.com/assets/colab-badge.svg)](https://colab.research.google.com/github/enabling-languages/libraries-transformation/blob/main/notebooks/ALA-LC-transformations.ipynb)\n"
      ]
    },
    {
      "cell_type": "markdown",
      "metadata": {
        "id": "musQ2g7IfBfy"
      },
      "source": [
        "## Setup"
      ]
    },
    {
      "cell_type": "code",
      "execution_count": 1,
      "metadata": {
        "id": "-a8TtPff1TUl"
      },
      "outputs": [
        {
          "ename": "ModuleNotFoundError",
          "evalue": "No module named 'el_utilities'",
          "output_type": "error",
          "traceback": [
            "\u001b[0;31m---------------------------------------------------------------------------\u001b[0m",
            "\u001b[0;31mModuleNotFoundError\u001b[0m                       Traceback (most recent call last)",
            "\u001b[0;32m<ipython-input-1-008271f3c3c8>\u001b[0m in \u001b[0;36m<module>\u001b[0;34m\u001b[0m\n\u001b[1;32m     11\u001b[0m \u001b[0;31m# import el_transliteration\u001b[0m\u001b[0;34m\u001b[0m\u001b[0;34m\u001b[0m\u001b[0;34m\u001b[0m\u001b[0m\n\u001b[1;32m     12\u001b[0m \u001b[0;32mimport\u001b[0m \u001b[0mel_internationalisation\u001b[0m \u001b[0;32mas\u001b[0m \u001b[0meli\u001b[0m\u001b[0;34m\u001b[0m\u001b[0;34m\u001b[0m\u001b[0m\n\u001b[0;32m---> 13\u001b[0;31m \u001b[0;32mimport\u001b[0m \u001b[0mel_utilities\u001b[0m \u001b[0;32mas\u001b[0m \u001b[0melu\u001b[0m\u001b[0;34m\u001b[0m\u001b[0;34m\u001b[0m\u001b[0m\n\u001b[0m",
            "\u001b[0;31mModuleNotFoundError\u001b[0m: No module named 'el_utilities'"
          ]
        }
      ],
      "source": [
        "%%capture\n",
        "!pip install -U git+https://github.com/enabling-languages/el_internationalisation.git#egg=el_internationalisation\n",
        "!pip install -U git+https://github.com/enabling-languages/el_utilities.git#egg=el_utilities\n",
        "\n",
        "import el_utilities as elu"
      ]
    },
    {
      "cell_type": "markdown",
      "metadata": {
        "id": "yH3xumO4fGne"
      },
      "source": [
        "##  Transformation"
      ]
    },
    {
      "cell_type": "code",
      "execution_count": null,
      "metadata": {
        "colab": {
          "base_uri": "https://localhost:8080/"
        },
        "id": "ybtAAvqu_eLI",
        "outputId": "da363dbe-56cd-4aea-dffa-ebabf9da041e"
      },
      "outputs": [
        {
          "name": "stdout",
          "output_type": "stream",
          "text": [
            "String to transform: jhaGD\n",
            "\n",
            "\n",
            "jhagd\n",
            "jhagd\n"
          ]
        }
      ],
      "source": [
        "input_str = input(\"String to transform: \")\n",
        "output_str = elu.el_transliterate(input_str, lang=\"lo\", dir=\"reverse\", nf=\"nfd\")\n",
        "print(\"\\n\")\n",
        "print(elu.prep_string(input_str, dir=\"reverse\", lang=\"lo\", b=\"latin-only\"))\n",
        "print(output_str)"
      ]
    }
  ],
  "metadata": {
    "colab": {
      "name": "ALA-LC-transformations.ipynb",
      "provenance": []
    },
    "kernelspec": {
      "display_name": "Python 3.8.1 ('el')",
      "language": "python",
      "name": "python3"
    },
    "language_info": {
      "codemirror_mode": {
        "name": "ipython",
        "version": 3
      },
      "file_extension": ".py",
      "mimetype": "text/x-python",
      "name": "python",
      "nbconvert_exporter": "python",
      "pygments_lexer": "ipython3",
      "version": "3.8.1"
    },
    "vscode": {
      "interpreter": {
        "hash": "bb12d0de9674b66c629d2bafada2ec4f6e6dba6d129e54dea4badc21502d54d3"
      }
    }
  },
  "nbformat": 4,
  "nbformat_minor": 0
}
