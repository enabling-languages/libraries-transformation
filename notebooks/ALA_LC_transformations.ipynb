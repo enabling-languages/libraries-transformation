{
  "nbformat": 4,
  "nbformat_minor": 0,
  "metadata": {
    "colab": {
      "provenance": [],
      "collapsed_sections": []
    },
    "kernelspec": {
      "name": "python3",
      "display_name": "Python 3"
    },
    "language_info": {
      "name": "python"
    }
  },
  "cells": [
    {
      "cell_type": "markdown",
      "source": [
        "# Latin to Lao transformation\n",
        "\n",
        "[![Open In Colab](https://colab.research.google.com/assets/colab-badge.svg)](https://colab.research.google.com/github/enabling-languages/libraries-transformation/blob/main/notebooks/ALA-LC-transformations.ipynb)\n"
      ],
      "metadata": {
        "id": "kgPO1ufOdMzH"
      }
    },
    {
      "cell_type": "markdown",
      "source": [
        "## Setup"
      ],
      "metadata": {
        "id": "musQ2g7IfBfy"
      }
    },
    {
      "cell_type": "code",
      "source": [
        "#%%capture\n",
        "try:\n",
        "  import google.colab\n",
        "  IN_COLAB = True\n",
        "except ImportError:\n",
        "  IN_COLAB = False\n",
        "if IN_COLAB:\n",
        "  try:\n",
        "    import el_utilities as elu\n",
        "  except ImportError:\n",
        "    !pip install -U git+https://github.com/enabling-languages/el_internationalisation.git#egg=el_internationalisation\n",
        "    !pip install -U git+https://github.com/enabling-languages/el_utilities.git#egg=el_utilities\n",
        "    import el_utilities as elu\n",
        "else:\n",
        "  import el_utilities as elu"
      ],
      "metadata": {
        "id": "eFuq1Zo_MAjy"
      },
      "execution_count": null,
      "outputs": []
    },
    {
      "cell_type": "markdown",
      "source": [
        "## Configuration\n",
        "\n",
        "Normalisation form used in processing is set here. Use either NFM (Marc21), NFD or NFC"
      ],
      "metadata": {
        "id": "TVh-_93x51GX"
      }
    },
    {
      "cell_type": "code",
      "source": [
        "DEFAULT_NORMALISATION_FORM: str = \"NFM\""
      ],
      "metadata": {
        "id": "IH3RgmLa51rm"
      },
      "execution_count": null,
      "outputs": []
    },
    {
      "cell_type": "markdown",
      "source": [
        "##  Transformation"
      ],
      "metadata": {
        "id": "yH3xumO4fGne"
      }
    },
    {
      "cell_type": "markdown",
      "source": [
        "Type in number of fields you want to process, then press enter. \n",
        "\n",
        "If you only want one field, enter 1, or just leave empty, then press Enter."
      ],
      "metadata": {
        "id": "bduOtrza6ATo"
      }
    },
    {
      "cell_type": "code",
      "source": [
        "repetitions_input: str = input(\"Number of fields are required: \")\n",
        "repetitions: int = 1\n",
        "if repetitions_input:\n",
        "    repetitions = int(repetitions_input) if repetitions_input != \"0\" else 1"
      ],
      "metadata": {
        "id": "wrRDcX086Bs9"
      },
      "execution_count": null,
      "outputs": []
    },
    {
      "cell_type": "markdown",
      "source": [
        "Enter each string when prompted. You will be prompted as many times as you entered above. Results from each string displayed below."
      ],
      "metadata": {
        "id": "lSAQg65p6KWb"
      }
    },
    {
      "cell_type": "code",
      "source": [
        "for n in range(0, repetitions):\n",
        "    latn_input_str: str = input(\"String to transform: \")\n",
        "    print(f'{latn_input_str}\\n{elu.el_transliterate(latn_input_str, lang=\"lo\", dir=\"reverse\", nf=DEFAULT_NORMALISATION_FORM)}\\n')"
      ],
      "metadata": {
        "id": "MOawU9sVLP6T"
      },
      "execution_count": null,
      "outputs": []
    }
  ]
}