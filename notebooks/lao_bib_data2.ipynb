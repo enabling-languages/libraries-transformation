{
  "cells": [
    {
      "cell_type": "markdown",
      "metadata": {
        "id": "caZvnw1Dx8_K"
      },
      "source": [
        "# Word segmentation of Lao bibliographic data"
      ]
    },
    {
      "cell_type": "markdown",
      "metadata": {
        "id": "6u6p5IIvyEHR"
      },
      "source": [
        "Install packages not available in Google Colab."
      ]
    },
    {
      "cell_type": "code",
      "execution_count": 14,
      "metadata": {
        "colab": {
          "base_uri": "https://localhost:8080/"
        },
        "id": "bHSDN--Sx3b6",
        "outputId": "fc580dca-4fa4-431c-a477-d6852e393431"
      },
      "outputs": [],
      "source": [
        "#!pip install laonlp\n",
        "#!pip install pyicu\n",
        "#!pip install pythainlp\n",
        "#!pip install botok"
      ]
    },
    {
      "cell_type": "code",
      "execution_count": 15,
      "metadata": {
        "id": "gafEAyQCwwoR"
      },
      "outputs": [],
      "source": [
        "import sys\n",
        "import regex as re\n",
        "import pandas as pd\n",
        "from laonlp.tokenize import word_tokenize as lao_wt\n",
        "from pythainlp.tokenize import word_tokenize as thai_wt\n",
        "from khmernltk import word_tokenize as khmer_wt\n",
        "from icu import BreakIterator, Locale"
      ]
    },
    {
      "cell_type": "code",
      "execution_count": 16,
      "metadata": {
        "id": "w3Ql96HXZyKx"
      },
      "outputs": [],
      "source": [
        "SUPPORTED_LANGUAGES = ['bo', 'bo_CN', 'bo_IN', 'km', 'km_KH', 'lo', 'lo_LA', 'my', 'my_MM', 'th', 'th_TH']\n",
        "SUPPORTED_ENGINES = ['icu', 'laonlp', 'thainlp']\n",
        "SUPPORTED_SEPERATORS = ['\\u0020', '\\u007C', '\\u200B']"
      ]
    },
    {
      "cell_type": "code",
      "execution_count": 17,
      "metadata": {
        "id": "2pnLdQlMaocd"
      },
      "outputs": [],
      "source": [
        "def laonlp_tokenise(s, sep):\n",
        "    s = sep.join(lao_wt(s))\n",
        "    s = re.sub(r\"\\s{2,}\", \" \", s)\n",
        "    return re.sub(r'\\s([?.!\"](?:\\s|$))', r'\\1', s)\n",
        "\n",
        "#def thainlp_tokenise(s, sep):\n",
        "#    s = sep.join(thai_wt(s))\n",
        "#    s = re.sub(r\"\\s{2,}\", \" \", s)\n",
        "#    return re.sub(r'\\s([?.!\"](?:\\s|$))', r'\\1', s)\n",
        "\n",
        "def iterate_breaks(text, bi):\n",
        "    bi.setText(text)\n",
        "    lastpos = 0\n",
        "    while True:\n",
        "        next_boundary = bi.nextBoundary()\n",
        "        if next_boundary == -1: return\n",
        "        yield text[lastpos:next_boundary]\n",
        "        lastpos = next_boundary\n",
        "\n",
        "def icu_tokenise(s, l, sep):\n",
        "    if l.lower() == \"lo\":\n",
        "        bi = BreakIterator.createWordInstance(Locale('lo_LA'))\n",
        "    if l.lower() == \"th\":\n",
        "        bi = BreakIterator.createWordInstance(Locale('th_TH'))\n",
        "    s = sep.join(list(iterate_breaks(s, bi)))\n",
        "    s = re.sub(r\"\\s{2,}\", \" \", s)\n",
        "    s = re.sub(r'\\s([?.!\"](?:\\s|$))', r'\\1', s)\n",
        "    return s\n",
        "\n",
        "def segment_words(text, engine=\"icu\", lang=\"\", sep=\"\\u0020\"):\n",
        "    engine = engine.lower()\n",
        "    lang = lang.replace(\"-\", \"_\").split('.')[0]\n",
        "    if engine not in SUPPORTED_ENGINES:\n",
        "        print(\"Unsupported tokenisation engine specified\", file=sys.stderr)\n",
        "        sys.exit(1)\n",
        "    if lang not in SUPPORTED_LANGUAGES:\n",
        "        print(\"Unsupported language specified\", file=sys.stderr)\n",
        "        sys.exit(1)\n",
        "    if sep not in SUPPORTED_SEPERATORS:\n",
        "        print(\"Unsupported token seperator\", file=sys.stderr)\n",
        "        sys.exit(1)\n",
        "    if engine == \"icu\":\n",
        "        return icu_tokenise(text, lang, sep)\n",
        "    if engine == \"laonlp\" and lang[0:2] == \"lo\":\n",
        "        return laonlp_tokenise(text, sep)\n"
      ]
    },
    {
      "cell_type": "code",
      "execution_count": 18,
      "metadata": {
        "id": "b92qnDYIasBv"
      },
      "outputs": [],
      "source": [
        "lao_data =[\n",
        "    [\"Kō̜n cha mī Mư̄ang Vīang Sai thān thīman kānpativat : bot banthưk khwāmsongcham / Somphō̜n Sīsuvanna.\",  \"ກ່ອນຈະມີເມືອງວຽງໄຊ ຖານທີ່ທີ່ນ ການປະຕິຕິດ : ບົດບັນທຶກຄວາມຊົງຈຳ / ສົມພອນ ສີສີສີນນະ.\"],\n",
        "    [\"Lom hāi chai khō̧ng phǣndin / Kom Khāosān Mǣnying Lāo Sūn Kāng Sahāphan Mǣnying Lāo.\", \"ລົມຫາຍໃຈຂອງແຜ່ນດິນ / ກົມຂ່າວສານແມ່ຍິງລາວ ສູນກາງສະຫະພັນແມ່ມ່ງລາວ.\"],\n",
        "    [\"Sēnthāng sū santiphāp / khonkhwā læ hīaphīang, Suli Detvongphan.\", \"ເສັ້ນທາງສູ່ສັນຕິພາບ / ຄົ້ນຄວ້າ ແລະ ຮຽບຮຽງ, ສຸລິ ເດດວົງພັນ.\"]\n",
        "]\n",
        "source_df = pd.DataFrame(lao_data, columns = ['latin', 'lao'])\n",
        "df = source_df"
      ]
    },
    {
      "cell_type": "code",
      "execution_count": 19,
      "metadata": {
        "colab": {
          "base_uri": "https://localhost:8080/",
          "height": 143
        },
        "id": "3mV88r7BfEul",
        "outputId": "ab8f1d9c-3436-4347-8aa4-bb5907e7a714"
      },
      "outputs": [
        {
          "data": {
            "text/html": [
              "<div>\n",
              "<style scoped>\n",
              "    .dataframe tbody tr th:only-of-type {\n",
              "        vertical-align: middle;\n",
              "    }\n",
              "\n",
              "    .dataframe tbody tr th {\n",
              "        vertical-align: top;\n",
              "    }\n",
              "\n",
              "    .dataframe thead th {\n",
              "        text-align: right;\n",
              "    }\n",
              "</style>\n",
              "<table border=\"1\" class=\"dataframe\">\n",
              "  <thead>\n",
              "    <tr style=\"text-align: right;\">\n",
              "      <th></th>\n",
              "      <th>latin</th>\n",
              "      <th>lao</th>\n",
              "    </tr>\n",
              "  </thead>\n",
              "  <tbody>\n",
              "    <tr>\n",
              "      <th>0</th>\n",
              "      <td>Kō̜n cha mī Mư̄ang Vīang Sai thān thīman...</td>\n",
              "      <td>ກ່ອນຈະມີເມືອງວຽງໄຊ ຖານທີ່ທີ່ນ ການປະຕິຕິດ : ບົດ...</td>\n",
              "    </tr>\n",
              "    <tr>\n",
              "      <th>1</th>\n",
              "      <td>Lom hāi chai khō̧ng phǣndin / Kom Khāosān...</td>\n",
              "      <td>ລົມຫາຍໃຈຂອງແຜ່ນດິນ / ກົມຂ່າວສານແມ່ຍິງລາວ ສູນກາ...</td>\n",
              "    </tr>\n",
              "    <tr>\n",
              "      <th>2</th>\n",
              "      <td>Sēnthāng sū santiphāp / khonkhwā læ hīap...</td>\n",
              "      <td>ເສັ້ນທາງສູ່ສັນຕິພາບ / ຄົ້ນຄວ້າ ແລະ ຮຽບຮຽງ, ສຸລ...</td>\n",
              "    </tr>\n",
              "  </tbody>\n",
              "</table>\n",
              "</div>"
            ],
            "text/plain": [
              "                                               latin  \\\n",
              "0  Kō̜n cha mī Mư̄ang Vīang Sai thān thīman...   \n",
              "1  Lom hāi chai khō̧ng phǣndin / Kom Khāosān...   \n",
              "2  Sēnthāng sū santiphāp / khonkhwā læ hīap...   \n",
              "\n",
              "                                                 lao  \n",
              "0  ກ່ອນຈະມີເມືອງວຽງໄຊ ຖານທີ່ທີ່ນ ການປະຕິຕິດ : ບົດ...  \n",
              "1  ລົມຫາຍໃຈຂອງແຜ່ນດິນ / ກົມຂ່າວສານແມ່ຍິງລາວ ສູນກາ...  \n",
              "2  ເສັ້ນທາງສູ່ສັນຕິພາບ / ຄົ້ນຄວ້າ ແລະ ຮຽບຮຽງ, ສຸລ...  "
            ]
          },
          "execution_count": 19,
          "metadata": {},
          "output_type": "execute_result"
        }
      ],
      "source": [
        "df"
      ]
    },
    {
      "cell_type": "code",
      "execution_count": 20,
      "metadata": {
        "colab": {
          "base_uri": "https://localhost:8080/"
        },
        "id": "8YaW5fKGfI1n",
        "outputId": "0f4ed7a2-4f9f-4584-c539-67875ea682b5"
      },
      "outputs": [
        {
          "data": {
            "text/plain": [
              "0    ກ່ອນຈະມີເມືອງວຽງໄຊ ຖານທີ່ທີ່ນ ການປະຕິຕິດ : ບົດ...\n",
              "1    ລົມຫາຍໃຈຂອງແຜ່ນດິນ / ກົມຂ່າວສານແມ່ຍິງລາວ ສູນກາ...\n",
              "2    ເສັ້ນທາງສູ່ສັນຕິພາບ / ຄົ້ນຄວ້າ ແລະ ຮຽບຮຽງ, ສຸລ...\n",
              "Name: lao, dtype: object"
            ]
          },
          "execution_count": 20,
          "metadata": {},
          "output_type": "execute_result"
        }
      ],
      "source": [
        "df['lao']"
      ]
    },
    {
      "cell_type": "code",
      "execution_count": 21,
      "metadata": {
        "id": "D91tHoFgavpz"
      },
      "outputs": [],
      "source": [
        "df['laonlp'] = df['lao'].map(lambda x: segment_words(x, engine=\"laonlp\", lang=\"lo\"))"
      ]
    },
    {
      "cell_type": "code",
      "execution_count": 22,
      "metadata": {
        "id": "rfw3qHJLayBH"
      },
      "outputs": [],
      "source": [
        "df['icu'] = df['lao'].map(lambda x: segment_words(x, engine=\"icu\", lang=\"lo\"))"
      ]
    },
    {
      "cell_type": "code",
      "execution_count": 23,
      "metadata": {
        "colab": {
          "base_uri": "https://localhost:8080/",
          "height": 143
        },
        "id": "0uFHjk3wqRTV",
        "outputId": "1603071e-8773-4317-a217-f11c6a453c8f"
      },
      "outputs": [
        {
          "data": {
            "text/html": [
              "<div>\n",
              "<style scoped>\n",
              "    .dataframe tbody tr th:only-of-type {\n",
              "        vertical-align: middle;\n",
              "    }\n",
              "\n",
              "    .dataframe tbody tr th {\n",
              "        vertical-align: top;\n",
              "    }\n",
              "\n",
              "    .dataframe thead th {\n",
              "        text-align: right;\n",
              "    }\n",
              "</style>\n",
              "<table border=\"1\" class=\"dataframe\">\n",
              "  <thead>\n",
              "    <tr style=\"text-align: right;\">\n",
              "      <th></th>\n",
              "      <th>latin</th>\n",
              "      <th>lao</th>\n",
              "      <th>laonlp</th>\n",
              "      <th>icu</th>\n",
              "    </tr>\n",
              "  </thead>\n",
              "  <tbody>\n",
              "    <tr>\n",
              "      <th>0</th>\n",
              "      <td>Kō̜n cha mī Mư̄ang Vīang Sai thān thīman...</td>\n",
              "      <td>ກ່ອນຈະມີເມືອງວຽງໄຊ ຖານທີ່ທີ່ນ ການປະຕິຕິດ : ບົດ...</td>\n",
              "      <td>ກ່ອນຈະ ມີ ເມືອງ ວຽງໄຊ ຖານທີ່ ທີ່ ນ ການ ປະຕິ ຕິ...</td>\n",
              "      <td>ກ່ອນ ຈະ ມີ ເມືອງ ວຽງ ໄຊ ຖານ ທີ່ ທີ່ ນ ການ ປະຕິ...</td>\n",
              "    </tr>\n",
              "    <tr>\n",
              "      <th>1</th>\n",
              "      <td>Lom hāi chai khō̧ng phǣndin / Kom Khāosān...</td>\n",
              "      <td>ລົມຫາຍໃຈຂອງແຜ່ນດິນ / ກົມຂ່າວສານແມ່ຍິງລາວ ສູນກາ...</td>\n",
              "      <td>ລົມຫາຍໃຈ ຂອງ ແຜ່ນດິນ / ກົມ ຂ່າວສານ ແມ່ຍິງ ລາວ ...</td>\n",
              "      <td>ລົມ ຫາຍໃຈ ຂອງ ແຜ່ນດິນ / ກົມ ຂ່າວສານ ແມ່ ຍິງ ລາ...</td>\n",
              "    </tr>\n",
              "    <tr>\n",
              "      <th>2</th>\n",
              "      <td>Sēnthāng sū santiphāp / khonkhwā læ hīap...</td>\n",
              "      <td>ເສັ້ນທາງສູ່ສັນຕິພາບ / ຄົ້ນຄວ້າ ແລະ ຮຽບຮຽງ, ສຸລ...</td>\n",
              "      <td>ເສັ້ນທາງ ສູ່ ສັນຕິພາບ / ຄົ້ນຄວ້າ ແລະ ຮຽບຮຽງ , ...</td>\n",
              "      <td>ເສັ້ນທາງ ສູ່ ສັນຕິພາບ / ຄົ້ນ ຄວ້າ ແລະ ຮຽບຮຽງ ,...</td>\n",
              "    </tr>\n",
              "  </tbody>\n",
              "</table>\n",
              "</div>"
            ],
            "text/plain": [
              "                                               latin  \\\n",
              "0  Kō̜n cha mī Mư̄ang Vīang Sai thān thīman...   \n",
              "1  Lom hāi chai khō̧ng phǣndin / Kom Khāosān...   \n",
              "2  Sēnthāng sū santiphāp / khonkhwā læ hīap...   \n",
              "\n",
              "                                                 lao  \\\n",
              "0  ກ່ອນຈະມີເມືອງວຽງໄຊ ຖານທີ່ທີ່ນ ການປະຕິຕິດ : ບົດ...   \n",
              "1  ລົມຫາຍໃຈຂອງແຜ່ນດິນ / ກົມຂ່າວສານແມ່ຍິງລາວ ສູນກາ...   \n",
              "2  ເສັ້ນທາງສູ່ສັນຕິພາບ / ຄົ້ນຄວ້າ ແລະ ຮຽບຮຽງ, ສຸລ...   \n",
              "\n",
              "                                              laonlp  \\\n",
              "0  ກ່ອນຈະ ມີ ເມືອງ ວຽງໄຊ ຖານທີ່ ທີ່ ນ ການ ປະຕິ ຕິ...   \n",
              "1  ລົມຫາຍໃຈ ຂອງ ແຜ່ນດິນ / ກົມ ຂ່າວສານ ແມ່ຍິງ ລາວ ...   \n",
              "2  ເສັ້ນທາງ ສູ່ ສັນຕິພາບ / ຄົ້ນຄວ້າ ແລະ ຮຽບຮຽງ , ...   \n",
              "\n",
              "                                                 icu  \n",
              "0  ກ່ອນ ຈະ ມີ ເມືອງ ວຽງ ໄຊ ຖານ ທີ່ ທີ່ ນ ການ ປະຕິ...  \n",
              "1  ລົມ ຫາຍໃຈ ຂອງ ແຜ່ນດິນ / ກົມ ຂ່າວສານ ແມ່ ຍິງ ລາ...  \n",
              "2  ເສັ້ນທາງ ສູ່ ສັນຕິພາບ / ຄົ້ນ ຄວ້າ ແລະ ຮຽບຮຽງ ,...  "
            ]
          },
          "execution_count": 23,
          "metadata": {},
          "output_type": "execute_result"
        }
      ],
      "source": [
        "df"
      ]
    },
    {
      "cell_type": "code",
      "execution_count": 24,
      "metadata": {
        "colab": {
          "base_uri": "https://localhost:8080/",
          "height": 36
        },
        "id": "S4CMDxUpqpCX",
        "outputId": "d2c4c356-8937-4786-ce9e-7972b0829e9c"
      },
      "outputs": [
        {
          "data": {
            "text/plain": [
              "'ກ່ອນຈະມີເມືອງວຽງໄຊ ຖານທີ່ທີ່ນ ການປະຕິຕິດ : ບົດບັນທຶກຄວາມຊົງຈຳ / ສົມພອນ ສີສີສີນນະ.'"
            ]
          },
          "execution_count": 24,
          "metadata": {},
          "output_type": "execute_result"
        }
      ],
      "source": [
        "single_string = df.iloc[0][1]\n",
        "single_string"
      ]
    },
    {
      "cell_type": "code",
      "execution_count": 25,
      "metadata": {
        "colab": {
          "base_uri": "https://localhost:8080/",
          "height": 36
        },
        "id": "KyeJuiz4qthp",
        "outputId": "ca1b2dbc-9a86-4382-e6c6-efb6057f5175"
      },
      "outputs": [
        {
          "data": {
            "text/plain": [
              "'ກ່ອນ|ຈະ|ມີ|ເມືອງ|ວຽງ|ໄຊ| |ຖານ|ທີ່|ທີ່|ນ| |ການ|ປະຕິ|ຕິດ| |:| |ບົດ|ບັນທຶກ|ຄວາມ|ຊົງ|ຈຳ| |/| |ສົມ|ພອນ| |ສີ|ສີ|ສີນ|ນະ|.'"
            ]
          },
          "execution_count": 25,
          "metadata": {},
          "output_type": "execute_result"
        }
      ],
      "source": [
        "segment_words(single_string, engine=\"icu\", lang=\"lo\", sep=\"|\")"
      ]
    },
    {
      "cell_type": "code",
      "execution_count": 26,
      "metadata": {
        "colab": {
          "base_uri": "https://localhost:8080/",
          "height": 36
        },
        "id": "Z9pRjmSWrPxC",
        "outputId": "6d52c777-c07a-44ea-e4b0-1019b042f089"
      },
      "outputs": [
        {
          "data": {
            "text/plain": [
              "'ກ່ອນຈະ|ມີ|ເມືອງ|ວຽງໄຊ| |ຖານທີ່|ທີ່|ນ| |ການ|ປະຕິ|ຕິດ| |:| |ບົດ|ບັນທຶກຄວາມຊົງຈຳ| |/| |ສົມພອນ| |ສີ|ສີ|ສີນ|ນະ|.'"
            ]
          },
          "execution_count": 26,
          "metadata": {},
          "output_type": "execute_result"
        }
      ],
      "source": [
        "segment_words(single_string, engine=\"laonlp\", lang=\"lo\", sep=\"|\")"
      ]
    },
    {
      "cell_type": "markdown",
      "metadata": {
        "id": "kXcIoMNcx1K1"
      },
      "source": [
        "## Khmer\n",
        "\n",
        "__khmer-nltk__\n",
        "\n",
        "* [Khmer Natural Language Processing in Python](https://towardsdatascience.com/khmer-natural-language-processing-in-python-c770afb84784)\n",
        "* https://viblo.asia/p/nlp-khmer-word-segmentation-YWOZrgNNlQ\n",
        "* https://medium.com/@phylypo/text-classification-with-scikit-learn-on-khmer-documents-1a395317d195\n",
        "\n",
        "\n",
        "## Tibetan\n",
        "\n",
        "* https://github.com/topics/tibetan-nlp\n",
        "* [botok](https://github.com/Esukhia/botok)\n",
        "* [pybo](https://github.com/Esukhia/pybo)\n",
        "* [PyTib](https://github.com/Esukhia/PyTib)\n",
        "\n",
        "\n",
        "## Myanmar"
      ]
    }
  ],
  "metadata": {
    "colab": {
      "collapsed_sections": [],
      "name": "lao_bib_data2.ipynb",
      "provenance": []
    },
    "kernelspec": {
      "display_name": "Python 3",
      "name": "python3"
    },
    "language_info": {
      "codemirror_mode": {
        "name": "ipython",
        "version": 3
      },
      "file_extension": ".py",
      "mimetype": "text/x-python",
      "name": "python",
      "nbconvert_exporter": "python",
      "pygments_lexer": "ipython3",
      "version": "3.9.7"
    }
  },
  "nbformat": 4,
  "nbformat_minor": 0
}
