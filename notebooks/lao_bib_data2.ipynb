{
  "nbformat": 4,
  "nbformat_minor": 0,
  "metadata": {
    "colab": {
      "name": "lao_bib_data2.ipynb",
      "provenance": [],
      "collapsed_sections": []
    },
    "kernelspec": {
      "name": "python3",
      "display_name": "Python 3"
    },
    "language_info": {
      "name": "python"
    }
  },
  "cells": [
    {
      "cell_type": "markdown",
      "source": [
        "# Word segmentation of Lao bibliographic data"
      ],
      "metadata": {
        "id": "caZvnw1Dx8_K"
      }
    },
    {
      "cell_type": "markdown",
      "source": [
        "Install packages not available in Google Colab."
      ],
      "metadata": {
        "id": "6u6p5IIvyEHR"
      }
    },
    {
      "cell_type": "code",
      "source": [
        "!pip install laonlp\n",
        "!pip install pyicu\n",
        "!pip install pythainlp\n",
        "!pip install botok"
      ],
      "metadata": {
        "colab": {
          "base_uri": "https://localhost:8080/"
        },
        "id": "bHSDN--Sx3b6",
        "outputId": "fc580dca-4fa4-431c-a477-d6852e393431"
      },
      "execution_count": null,
      "outputs": [
        {
          "output_type": "stream",
          "name": "stdout",
          "text": [
            "Requirement already satisfied: laonlp in /usr/local/lib/python3.7/dist-packages (0.5)\n",
            "Requirement already satisfied: pythainlp>=2.1.0 in /usr/local/lib/python3.7/dist-packages (from laonlp) (2.3.2)\n",
            "Requirement already satisfied: python-crfsuite>=0.9.6 in /usr/local/lib/python3.7/dist-packages (from pythainlp>=2.1.0->laonlp) (0.9.7)\n",
            "Requirement already satisfied: tinydb>=3.0 in /usr/local/lib/python3.7/dist-packages (from pythainlp>=2.1.0->laonlp) (4.6.1)\n",
            "Requirement already satisfied: requests>=2.22.0 in /usr/local/lib/python3.7/dist-packages (from pythainlp>=2.1.0->laonlp) (2.23.0)\n",
            "Requirement already satisfied: idna<3,>=2.5 in /usr/local/lib/python3.7/dist-packages (from requests>=2.22.0->pythainlp>=2.1.0->laonlp) (2.10)\n",
            "Requirement already satisfied: chardet<4,>=3.0.2 in /usr/local/lib/python3.7/dist-packages (from requests>=2.22.0->pythainlp>=2.1.0->laonlp) (3.0.4)\n",
            "Requirement already satisfied: urllib3!=1.25.0,!=1.25.1,<1.26,>=1.21.1 in /usr/local/lib/python3.7/dist-packages (from requests>=2.22.0->pythainlp>=2.1.0->laonlp) (1.24.3)\n",
            "Requirement already satisfied: certifi>=2017.4.17 in /usr/local/lib/python3.7/dist-packages (from requests>=2.22.0->pythainlp>=2.1.0->laonlp) (2021.10.8)\n",
            "Requirement already satisfied: typing-extensions<5.0.0,>=3.10.0 in /usr/local/lib/python3.7/dist-packages (from tinydb>=3.0->pythainlp>=2.1.0->laonlp) (3.10.0.2)\n",
            "Requirement already satisfied: pyicu in /usr/local/lib/python3.7/dist-packages (2.8)\n",
            "Requirement already satisfied: pythainlp in /usr/local/lib/python3.7/dist-packages (2.3.2)\n",
            "Requirement already satisfied: python-crfsuite>=0.9.6 in /usr/local/lib/python3.7/dist-packages (from pythainlp) (0.9.7)\n",
            "Requirement already satisfied: tinydb>=3.0 in /usr/local/lib/python3.7/dist-packages (from pythainlp) (4.6.1)\n",
            "Requirement already satisfied: requests>=2.22.0 in /usr/local/lib/python3.7/dist-packages (from pythainlp) (2.23.0)\n",
            "Requirement already satisfied: urllib3!=1.25.0,!=1.25.1,<1.26,>=1.21.1 in /usr/local/lib/python3.7/dist-packages (from requests>=2.22.0->pythainlp) (1.24.3)\n",
            "Requirement already satisfied: idna<3,>=2.5 in /usr/local/lib/python3.7/dist-packages (from requests>=2.22.0->pythainlp) (2.10)\n",
            "Requirement already satisfied: chardet<4,>=3.0.2 in /usr/local/lib/python3.7/dist-packages (from requests>=2.22.0->pythainlp) (3.0.4)\n",
            "Requirement already satisfied: certifi>=2017.4.17 in /usr/local/lib/python3.7/dist-packages (from requests>=2.22.0->pythainlp) (2021.10.8)\n",
            "Requirement already satisfied: typing-extensions<5.0.0,>=3.10.0 in /usr/local/lib/python3.7/dist-packages (from tinydb>=3.0->pythainlp) (3.10.0.2)\n"
          ]
        }
      ]
    },
    {
      "cell_type": "code",
      "execution_count": null,
      "metadata": {
        "id": "gafEAyQCwwoR"
      },
      "outputs": [],
      "source": [
        "import sys\n",
        "import regex as re\n",
        "import pandas as pd\n",
        "from laonlp.tokenize import word_tokenize as lao_wt\n",
        "from pythainlp.tokenize import word_tokenize as thai_wt\n",
        "from khmernltk import word_tokenize as khmer_wt\n",
        "from icu import BreakIterator, Locale"
      ]
    },
    {
      "cell_type": "code",
      "source": [
        "SUPPORTED_LANGUAGES = ['bo', 'bo_CN', 'bo_IN', 'km', 'km_KH', 'lo', 'lo_LA', 'my', 'my_MM', 'th', 'th_TH']\n",
        "SUPPORTED_ENGINES = ['icu', 'laonlp', 'thainlp']\n",
        "SUPPORTED_SEPERATORS = ['\\u0020', '\\u007C', '\\u200B']"
      ],
      "metadata": {
        "id": "w3Ql96HXZyKx"
      },
      "execution_count": null,
      "outputs": []
    },
    {
      "cell_type": "code",
      "source": [
        "def laonlp_tokenise(s, sep):\n",
        "    s = sep.join(lao_wt(s))\n",
        "    s = re.sub(r\"\\s{2,}\", \" \", s)\n",
        "    return re.sub(r'\\s([?.!\"](?:\\s|$))', r'\\1', s)\n",
        "\n",
        "#def thainlp_tokenise(s, sep):\n",
        "#    s = sep.join(thai_wt(s))\n",
        "#    s = re.sub(r\"\\s{2,}\", \" \", s)\n",
        "#    return re.sub(r'\\s([?.!\"](?:\\s|$))', r'\\1', s)\n",
        "\n",
        "def iterate_breaks(text, bi):\n",
        "    bi.setText(text)\n",
        "    lastpos = 0\n",
        "    while True:\n",
        "        next_boundary = bi.nextBoundary()\n",
        "        if next_boundary == -1: return\n",
        "        yield text[lastpos:next_boundary]\n",
        "        lastpos = next_boundary\n",
        "\n",
        "def icu_tokenise(s, l, sep):\n",
        "    if l.lower() == \"lo\":\n",
        "        bi = BreakIterator.createWordInstance(Locale('lo_LA'))\n",
        "    if l.lower() == \"th\":\n",
        "        bi = BreakIterator.createWordInstance(Locale('th_TH'))\n",
        "    s = sep.join(list(iterate_breaks(s, bi)))\n",
        "    s = re.sub(r\"\\s{2,}\", \" \", s)\n",
        "    s = re.sub(r'\\s([?.!\"](?:\\s|$))', r'\\1', s)\n",
        "    return s\n",
        "\n",
        "def segment_words(text, engine=\"icu\", lang=\"\", sep=\"\\u0020\"):\n",
        "    engine = engine.lower()\n",
        "    lang = lang.replace(\"-\", \"_\").split('.')[0]\n",
        "    if engine not in SUPPORTED_ENGINES:\n",
        "        print(\"Unsupported tokenisation engine specified\", file=sys.stderr)\n",
        "        sys.exit(1)\n",
        "    if lang not in SUPPORTED_LANGUAGES:\n",
        "        print(\"Unsupported language specified\", file=sys.stderr)\n",
        "        sys.exit(1)\n",
        "    if sep not in SUPPORTED_SEPERATORS:\n",
        "        print(\"Unsupported token seperator\", file=sys.stderr)\n",
        "        sys.exit(1)\n",
        "    if engine == \"icu\":\n",
        "        return icu_tokenise(text, lang, sep)\n",
        "    if engine == \"laonlp\" and lang[0:2] == \"lo\":\n",
        "        return laonlp_tokenise(text, sep)\n"
      ],
      "metadata": {
        "id": "2pnLdQlMaocd"
      },
      "execution_count": null,
      "outputs": []
    },
    {
      "cell_type": "code",
      "source": [
        "lao_data =[\n",
        "    [\"Kō̜n cha mī Mư̄ang Vīang Sai thān thīman kānpativat : bot banthưk khwāmsongcham / Somphō̜n Sīsuvanna.\",  \"ກ່ອນຈະມີເມືອງວຽງໄຊ ຖານທີ່ທີ່ນ ການປະຕິຕິດ : ບົດບັນທຶກຄວາມຊົງຈຳ / ສົມພອນ ສີສີສີນນະ.\"],\n",
        "    [\"Lom hāi chai khō̧ng phǣndin / Kom Khāosān Mǣnying Lāo Sūn Kāng Sahāphan Mǣnying Lāo.\", \"ລົມຫາຍໃຈຂອງແຜ່ນດິນ / ກົມຂ່າວສານແມ່ຍິງລາວ ສູນກາງສະຫະພັນແມ່ມ່ງລາວ.\"],\n",
        "    [\"Sēnthāng sū santiphāp / khonkhwā læ hīaphīang, Suli Detvongphan.\", \"ເສັ້ນທາງສູ່ສັນຕິພາບ / ຄົ້ນຄວ້າ ແລະ ຮຽບຮຽງ, ສຸລິ ເດດວົງພັນ.\"]\n",
        "]\n",
        "source_df = pd.DataFrame(lao_data, columns = ['latin', 'lao'])\n",
        "df = source_df"
      ],
      "metadata": {
        "id": "b92qnDYIasBv"
      },
      "execution_count": null,
      "outputs": []
    },
    {
      "cell_type": "code",
      "source": [
        "df"
      ],
      "metadata": {
        "colab": {
          "base_uri": "https://localhost:8080/",
          "height": 143
        },
        "id": "3mV88r7BfEul",
        "outputId": "ab8f1d9c-3436-4347-8aa4-bb5907e7a714"
      },
      "execution_count": null,
      "outputs": [
        {
          "output_type": "execute_result",
          "data": {
            "text/html": [
              "\n",
              "  <div id=\"df-86674262-c8ea-4e2f-96b5-ce32b564fcfb\">\n",
              "    <div class=\"colab-df-container\">\n",
              "      <div>\n",
              "<style scoped>\n",
              "    .dataframe tbody tr th:only-of-type {\n",
              "        vertical-align: middle;\n",
              "    }\n",
              "\n",
              "    .dataframe tbody tr th {\n",
              "        vertical-align: top;\n",
              "    }\n",
              "\n",
              "    .dataframe thead th {\n",
              "        text-align: right;\n",
              "    }\n",
              "</style>\n",
              "<table border=\"1\" class=\"dataframe\">\n",
              "  <thead>\n",
              "    <tr style=\"text-align: right;\">\n",
              "      <th></th>\n",
              "      <th>latin</th>\n",
              "      <th>lao</th>\n",
              "    </tr>\n",
              "  </thead>\n",
              "  <tbody>\n",
              "    <tr>\n",
              "      <th>0</th>\n",
              "      <td>Kō̜n cha mī Mư̄ang Vīang Sai thān thīman kānpa...</td>\n",
              "      <td>ກ່ອນຈະມີເມືອງວຽງໄຊ ຖານທີ່ທີ່ນ ການປະຕິຕິດ : ບົດ...</td>\n",
              "    </tr>\n",
              "    <tr>\n",
              "      <th>1</th>\n",
              "      <td>Lom hāi chai khō̧ng phǣndin / Kom Khāosān Mǣny...</td>\n",
              "      <td>ລົມຫາຍໃຈຂອງແຜ່ນດິນ / ກົມຂ່າວສານແມ່ຍິງລາວ ສູນກາ...</td>\n",
              "    </tr>\n",
              "    <tr>\n",
              "      <th>2</th>\n",
              "      <td>Sēnthāng sū santiphāp / khonkhwā læ hīaphīang,...</td>\n",
              "      <td>ເສັ້ນທາງສູ່ສັນຕິພາບ / ຄົ້ນຄວ້າ ແລະ ຮຽບຮຽງ, ສຸລ...</td>\n",
              "    </tr>\n",
              "  </tbody>\n",
              "</table>\n",
              "</div>\n",
              "      <button class=\"colab-df-convert\" onclick=\"convertToInteractive('df-86674262-c8ea-4e2f-96b5-ce32b564fcfb')\"\n",
              "              title=\"Convert this dataframe to an interactive table.\"\n",
              "              style=\"display:none;\">\n",
              "        \n",
              "  <svg xmlns=\"http://www.w3.org/2000/svg\" height=\"24px\"viewBox=\"0 0 24 24\"\n",
              "       width=\"24px\">\n",
              "    <path d=\"M0 0h24v24H0V0z\" fill=\"none\"/>\n",
              "    <path d=\"M18.56 5.44l.94 2.06.94-2.06 2.06-.94-2.06-.94-.94-2.06-.94 2.06-2.06.94zm-11 1L8.5 8.5l.94-2.06 2.06-.94-2.06-.94L8.5 2.5l-.94 2.06-2.06.94zm10 10l.94 2.06.94-2.06 2.06-.94-2.06-.94-.94-2.06-.94 2.06-2.06.94z\"/><path d=\"M17.41 7.96l-1.37-1.37c-.4-.4-.92-.59-1.43-.59-.52 0-1.04.2-1.43.59L10.3 9.45l-7.72 7.72c-.78.78-.78 2.05 0 2.83L4 21.41c.39.39.9.59 1.41.59.51 0 1.02-.2 1.41-.59l7.78-7.78 2.81-2.81c.8-.78.8-2.07 0-2.86zM5.41 20L4 18.59l7.72-7.72 1.47 1.35L5.41 20z\"/>\n",
              "  </svg>\n",
              "      </button>\n",
              "      \n",
              "  <style>\n",
              "    .colab-df-container {\n",
              "      display:flex;\n",
              "      flex-wrap:wrap;\n",
              "      gap: 12px;\n",
              "    }\n",
              "\n",
              "    .colab-df-convert {\n",
              "      background-color: #E8F0FE;\n",
              "      border: none;\n",
              "      border-radius: 50%;\n",
              "      cursor: pointer;\n",
              "      display: none;\n",
              "      fill: #1967D2;\n",
              "      height: 32px;\n",
              "      padding: 0 0 0 0;\n",
              "      width: 32px;\n",
              "    }\n",
              "\n",
              "    .colab-df-convert:hover {\n",
              "      background-color: #E2EBFA;\n",
              "      box-shadow: 0px 1px 2px rgba(60, 64, 67, 0.3), 0px 1px 3px 1px rgba(60, 64, 67, 0.15);\n",
              "      fill: #174EA6;\n",
              "    }\n",
              "\n",
              "    [theme=dark] .colab-df-convert {\n",
              "      background-color: #3B4455;\n",
              "      fill: #D2E3FC;\n",
              "    }\n",
              "\n",
              "    [theme=dark] .colab-df-convert:hover {\n",
              "      background-color: #434B5C;\n",
              "      box-shadow: 0px 1px 3px 1px rgba(0, 0, 0, 0.15);\n",
              "      filter: drop-shadow(0px 1px 2px rgba(0, 0, 0, 0.3));\n",
              "      fill: #FFFFFF;\n",
              "    }\n",
              "  </style>\n",
              "\n",
              "      <script>\n",
              "        const buttonEl =\n",
              "          document.querySelector('#df-86674262-c8ea-4e2f-96b5-ce32b564fcfb button.colab-df-convert');\n",
              "        buttonEl.style.display =\n",
              "          google.colab.kernel.accessAllowed ? 'block' : 'none';\n",
              "\n",
              "        async function convertToInteractive(key) {\n",
              "          const element = document.querySelector('#df-86674262-c8ea-4e2f-96b5-ce32b564fcfb');\n",
              "          const dataTable =\n",
              "            await google.colab.kernel.invokeFunction('convertToInteractive',\n",
              "                                                     [key], {});\n",
              "          if (!dataTable) return;\n",
              "\n",
              "          const docLinkHtml = 'Like what you see? Visit the ' +\n",
              "            '<a target=\"_blank\" href=https://colab.research.google.com/notebooks/data_table.ipynb>data table notebook</a>'\n",
              "            + ' to learn more about interactive tables.';\n",
              "          element.innerHTML = '';\n",
              "          dataTable['output_type'] = 'display_data';\n",
              "          await google.colab.output.renderOutput(dataTable, element);\n",
              "          const docLink = document.createElement('div');\n",
              "          docLink.innerHTML = docLinkHtml;\n",
              "          element.appendChild(docLink);\n",
              "        }\n",
              "      </script>\n",
              "    </div>\n",
              "  </div>\n",
              "  "
            ],
            "text/plain": [
              "                                               latin                                                lao\n",
              "0  Kō̜n cha mī Mư̄ang Vīang Sai thān thīman kānpa...  ກ່ອນຈະມີເມືອງວຽງໄຊ ຖານທີ່ທີ່ນ ການປະຕິຕິດ : ບົດ...\n",
              "1  Lom hāi chai khō̧ng phǣndin / Kom Khāosān Mǣny...  ລົມຫາຍໃຈຂອງແຜ່ນດິນ / ກົມຂ່າວສານແມ່ຍິງລາວ ສູນກາ...\n",
              "2  Sēnthāng sū santiphāp / khonkhwā læ hīaphīang,...  ເສັ້ນທາງສູ່ສັນຕິພາບ / ຄົ້ນຄວ້າ ແລະ ຮຽບຮຽງ, ສຸລ..."
            ]
          },
          "metadata": {},
          "execution_count": 104
        }
      ]
    },
    {
      "cell_type": "code",
      "source": [
        "df['lao']"
      ],
      "metadata": {
        "colab": {
          "base_uri": "https://localhost:8080/"
        },
        "id": "8YaW5fKGfI1n",
        "outputId": "0f4ed7a2-4f9f-4584-c539-67875ea682b5"
      },
      "execution_count": null,
      "outputs": [
        {
          "output_type": "execute_result",
          "data": {
            "text/plain": [
              "0    ກ່ອນຈະມີເມືອງວຽງໄຊ ຖານທີ່ທີ່ນ ການປະຕິຕິດ : ບົດ...\n",
              "1    ລົມຫາຍໃຈຂອງແຜ່ນດິນ / ກົມຂ່າວສານແມ່ຍິງລາວ ສູນກາ...\n",
              "2    ເສັ້ນທາງສູ່ສັນຕິພາບ / ຄົ້ນຄວ້າ ແລະ ຮຽບຮຽງ, ສຸລ...\n",
              "Name: lao, dtype: object"
            ]
          },
          "metadata": {},
          "execution_count": 105
        }
      ]
    },
    {
      "cell_type": "code",
      "source": [
        "df['laonlp'] = df['lao'].map(lambda x: segment_words(x, engine=\"laonlp\", lang=\"lo\"))"
      ],
      "metadata": {
        "id": "D91tHoFgavpz"
      },
      "execution_count": null,
      "outputs": []
    },
    {
      "cell_type": "code",
      "source": [
        "df['icu'] = df['lao'].map(lambda x: segment_words(x, engine=\"icu\", lang=\"lo\"))"
      ],
      "metadata": {
        "id": "rfw3qHJLayBH"
      },
      "execution_count": null,
      "outputs": []
    },
    {
      "cell_type": "code",
      "source": [
        "df"
      ],
      "metadata": {
        "colab": {
          "base_uri": "https://localhost:8080/",
          "height": 143
        },
        "id": "0uFHjk3wqRTV",
        "outputId": "1603071e-8773-4317-a217-f11c6a453c8f"
      },
      "execution_count": null,
      "outputs": [
        {
          "output_type": "execute_result",
          "data": {
            "text/html": [
              "\n",
              "  <div id=\"df-4566cfa6-c558-4c7d-bc81-d66c60d40c0e\">\n",
              "    <div class=\"colab-df-container\">\n",
              "      <div>\n",
              "<style scoped>\n",
              "    .dataframe tbody tr th:only-of-type {\n",
              "        vertical-align: middle;\n",
              "    }\n",
              "\n",
              "    .dataframe tbody tr th {\n",
              "        vertical-align: top;\n",
              "    }\n",
              "\n",
              "    .dataframe thead th {\n",
              "        text-align: right;\n",
              "    }\n",
              "</style>\n",
              "<table border=\"1\" class=\"dataframe\">\n",
              "  <thead>\n",
              "    <tr style=\"text-align: right;\">\n",
              "      <th></th>\n",
              "      <th>latin</th>\n",
              "      <th>lao</th>\n",
              "      <th>laonlp</th>\n",
              "      <th>icu</th>\n",
              "    </tr>\n",
              "  </thead>\n",
              "  <tbody>\n",
              "    <tr>\n",
              "      <th>0</th>\n",
              "      <td>Kō̜n cha mī Mư̄ang Vīang Sai thān thīman kānpa...</td>\n",
              "      <td>ກ່ອນຈະມີເມືອງວຽງໄຊ ຖານທີ່ທີ່ນ ການປະຕິຕິດ : ບົດ...</td>\n",
              "      <td>ກ່ອນຈະ ມີ ເມືອງ ວຽງໄຊ ຖານທີ່ ທີ່ ນ ການ ປະຕິ ຕິ...</td>\n",
              "      <td>ກ່ອນ ຈະ ມີ ເມືອງ ວຽງ ໄຊ ຖານ ທີ່ ທີ່ ນ ການ ປະຕິ...</td>\n",
              "    </tr>\n",
              "    <tr>\n",
              "      <th>1</th>\n",
              "      <td>Lom hāi chai khō̧ng phǣndin / Kom Khāosān Mǣny...</td>\n",
              "      <td>ລົມຫາຍໃຈຂອງແຜ່ນດິນ / ກົມຂ່າວສານແມ່ຍິງລາວ ສູນກາ...</td>\n",
              "      <td>ລົມຫາຍໃຈ ຂອງ ແຜ່ນດິນ / ກົມ ຂ່າວສານ ແມ່ຍິງ ລາວ ...</td>\n",
              "      <td>ລົມ ຫາຍໃຈ ຂອງ ແຜ່ນດິນ / ກົມ ຂ່າວສານ ແມ່ ຍິງ ລາ...</td>\n",
              "    </tr>\n",
              "    <tr>\n",
              "      <th>2</th>\n",
              "      <td>Sēnthāng sū santiphāp / khonkhwā læ hīaphīang,...</td>\n",
              "      <td>ເສັ້ນທາງສູ່ສັນຕິພາບ / ຄົ້ນຄວ້າ ແລະ ຮຽບຮຽງ, ສຸລ...</td>\n",
              "      <td>ເສັ້ນທາງ ສູ່ ສັນຕິພາບ / ຄົ້ນຄວ້າ ແລະ ຮຽບຮຽງ , ...</td>\n",
              "      <td>ເສັ້ນທາງ ສູ່ ສັນຕິພາບ / ຄົ້ນ ຄວ້າ ແລະ ຮຽບຮຽງ ,...</td>\n",
              "    </tr>\n",
              "  </tbody>\n",
              "</table>\n",
              "</div>\n",
              "      <button class=\"colab-df-convert\" onclick=\"convertToInteractive('df-4566cfa6-c558-4c7d-bc81-d66c60d40c0e')\"\n",
              "              title=\"Convert this dataframe to an interactive table.\"\n",
              "              style=\"display:none;\">\n",
              "        \n",
              "  <svg xmlns=\"http://www.w3.org/2000/svg\" height=\"24px\"viewBox=\"0 0 24 24\"\n",
              "       width=\"24px\">\n",
              "    <path d=\"M0 0h24v24H0V0z\" fill=\"none\"/>\n",
              "    <path d=\"M18.56 5.44l.94 2.06.94-2.06 2.06-.94-2.06-.94-.94-2.06-.94 2.06-2.06.94zm-11 1L8.5 8.5l.94-2.06 2.06-.94-2.06-.94L8.5 2.5l-.94 2.06-2.06.94zm10 10l.94 2.06.94-2.06 2.06-.94-2.06-.94-.94-2.06-.94 2.06-2.06.94z\"/><path d=\"M17.41 7.96l-1.37-1.37c-.4-.4-.92-.59-1.43-.59-.52 0-1.04.2-1.43.59L10.3 9.45l-7.72 7.72c-.78.78-.78 2.05 0 2.83L4 21.41c.39.39.9.59 1.41.59.51 0 1.02-.2 1.41-.59l7.78-7.78 2.81-2.81c.8-.78.8-2.07 0-2.86zM5.41 20L4 18.59l7.72-7.72 1.47 1.35L5.41 20z\"/>\n",
              "  </svg>\n",
              "      </button>\n",
              "      \n",
              "  <style>\n",
              "    .colab-df-container {\n",
              "      display:flex;\n",
              "      flex-wrap:wrap;\n",
              "      gap: 12px;\n",
              "    }\n",
              "\n",
              "    .colab-df-convert {\n",
              "      background-color: #E8F0FE;\n",
              "      border: none;\n",
              "      border-radius: 50%;\n",
              "      cursor: pointer;\n",
              "      display: none;\n",
              "      fill: #1967D2;\n",
              "      height: 32px;\n",
              "      padding: 0 0 0 0;\n",
              "      width: 32px;\n",
              "    }\n",
              "\n",
              "    .colab-df-convert:hover {\n",
              "      background-color: #E2EBFA;\n",
              "      box-shadow: 0px 1px 2px rgba(60, 64, 67, 0.3), 0px 1px 3px 1px rgba(60, 64, 67, 0.15);\n",
              "      fill: #174EA6;\n",
              "    }\n",
              "\n",
              "    [theme=dark] .colab-df-convert {\n",
              "      background-color: #3B4455;\n",
              "      fill: #D2E3FC;\n",
              "    }\n",
              "\n",
              "    [theme=dark] .colab-df-convert:hover {\n",
              "      background-color: #434B5C;\n",
              "      box-shadow: 0px 1px 3px 1px rgba(0, 0, 0, 0.15);\n",
              "      filter: drop-shadow(0px 1px 2px rgba(0, 0, 0, 0.3));\n",
              "      fill: #FFFFFF;\n",
              "    }\n",
              "  </style>\n",
              "\n",
              "      <script>\n",
              "        const buttonEl =\n",
              "          document.querySelector('#df-4566cfa6-c558-4c7d-bc81-d66c60d40c0e button.colab-df-convert');\n",
              "        buttonEl.style.display =\n",
              "          google.colab.kernel.accessAllowed ? 'block' : 'none';\n",
              "\n",
              "        async function convertToInteractive(key) {\n",
              "          const element = document.querySelector('#df-4566cfa6-c558-4c7d-bc81-d66c60d40c0e');\n",
              "          const dataTable =\n",
              "            await google.colab.kernel.invokeFunction('convertToInteractive',\n",
              "                                                     [key], {});\n",
              "          if (!dataTable) return;\n",
              "\n",
              "          const docLinkHtml = 'Like what you see? Visit the ' +\n",
              "            '<a target=\"_blank\" href=https://colab.research.google.com/notebooks/data_table.ipynb>data table notebook</a>'\n",
              "            + ' to learn more about interactive tables.';\n",
              "          element.innerHTML = '';\n",
              "          dataTable['output_type'] = 'display_data';\n",
              "          await google.colab.output.renderOutput(dataTable, element);\n",
              "          const docLink = document.createElement('div');\n",
              "          docLink.innerHTML = docLinkHtml;\n",
              "          element.appendChild(docLink);\n",
              "        }\n",
              "      </script>\n",
              "    </div>\n",
              "  </div>\n",
              "  "
            ],
            "text/plain": [
              "                                               latin  ...                                                icu\n",
              "0  Kō̜n cha mī Mư̄ang Vīang Sai thān thīman kānpa...  ...  ກ່ອນ ຈະ ມີ ເມືອງ ວຽງ ໄຊ ຖານ ທີ່ ທີ່ ນ ການ ປະຕິ...\n",
              "1  Lom hāi chai khō̧ng phǣndin / Kom Khāosān Mǣny...  ...  ລົມ ຫາຍໃຈ ຂອງ ແຜ່ນດິນ / ກົມ ຂ່າວສານ ແມ່ ຍິງ ລາ...\n",
              "2  Sēnthāng sū santiphāp / khonkhwā læ hīaphīang,...  ...  ເສັ້ນທາງ ສູ່ ສັນຕິພາບ / ຄົ້ນ ຄວ້າ ແລະ ຮຽບຮຽງ ,...\n",
              "\n",
              "[3 rows x 4 columns]"
            ]
          },
          "metadata": {},
          "execution_count": 109
        }
      ]
    },
    {
      "cell_type": "code",
      "source": [
        "single_string = df.iloc[0][1]\n",
        "single_string"
      ],
      "metadata": {
        "colab": {
          "base_uri": "https://localhost:8080/",
          "height": 36
        },
        "id": "S4CMDxUpqpCX",
        "outputId": "d2c4c356-8937-4786-ce9e-7972b0829e9c"
      },
      "execution_count": null,
      "outputs": [
        {
          "output_type": "execute_result",
          "data": {
            "application/vnd.google.colaboratory.intrinsic+json": {
              "type": "string"
            },
            "text/plain": [
              "'ກ່ອນຈະມີເມືອງວຽງໄຊ ຖານທີ່ທີ່ນ ການປະຕິຕິດ : ບົດບັນທຶກຄວາມຊົງຈຳ / ສົມພອນ ສີສີສີນນະ.'"
            ]
          },
          "metadata": {},
          "execution_count": 110
        }
      ]
    },
    {
      "cell_type": "code",
      "source": [
        "segment_words(single_string, engine=\"icu\", lang=\"lo\", sep=\"|\")"
      ],
      "metadata": {
        "colab": {
          "base_uri": "https://localhost:8080/",
          "height": 36
        },
        "id": "KyeJuiz4qthp",
        "outputId": "ca1b2dbc-9a86-4382-e6c6-efb6057f5175"
      },
      "execution_count": null,
      "outputs": [
        {
          "output_type": "execute_result",
          "data": {
            "application/vnd.google.colaboratory.intrinsic+json": {
              "type": "string"
            },
            "text/plain": [
              "'ກ່ອນ|ຈະ|ມີ|ເມືອງ|ວຽງ|ໄຊ| |ຖານ|ທີ່|ທີ່|ນ| |ການ|ປະຕິ|ຕິດ| |:| |ບົດ|ບັນທຶກ|ຄວາມ|ຊົງ|ຈຳ| |/| |ສົມ|ພອນ| |ສີ|ສີ|ສີນ|ນະ|.'"
            ]
          },
          "metadata": {},
          "execution_count": 111
        }
      ]
    },
    {
      "cell_type": "code",
      "source": [
        "segment_words(single_string, engine=\"laonlp\", lang=\"lo\", sep=\"|\")"
      ],
      "metadata": {
        "colab": {
          "base_uri": "https://localhost:8080/",
          "height": 36
        },
        "id": "Z9pRjmSWrPxC",
        "outputId": "6d52c777-c07a-44ea-e4b0-1019b042f089"
      },
      "execution_count": null,
      "outputs": [
        {
          "output_type": "execute_result",
          "data": {
            "application/vnd.google.colaboratory.intrinsic+json": {
              "type": "string"
            },
            "text/plain": [
              "'ກ່ອນຈະ|ມີ|ເມືອງ|ວຽງໄຊ| |ຖານທີ່|ທີ່|ນ| |ການ|ປະຕິ|ຕິດ| |:| |ບົດ|ບັນທຶກຄວາມຊົງຈຳ| |/| |ສົມພອນ| |ສີ|ສີ|ສີນ|ນະ|.'"
            ]
          },
          "metadata": {},
          "execution_count": 112
        }
      ]
    },
    {
      "cell_type": "markdown",
      "source": [
        "## Khmer\n",
        "\n",
        "__khmer-nltk__\n",
        "\n",
        "* [Khmer Natural Language Processing in Python](https://towardsdatascience.com/khmer-natural-language-processing-in-python-c770afb84784)\n",
        "* https://viblo.asia/p/nlp-khmer-word-segmentation-YWOZrgNNlQ\n",
        "* https://medium.com/@phylypo/text-classification-with-scikit-learn-on-khmer-documents-1a395317d195\n",
        "\n",
        "\n",
        "## Tibetan\n",
        "\n",
        "* https://github.com/topics/tibetan-nlp\n",
        "* [botok](https://github.com/Esukhia/botok)\n",
        "* [pybo](https://github.com/Esukhia/pybo)\n",
        "* [PyTib](https://github.com/Esukhia/PyTib)\n",
        "\n",
        "\n",
        "## Myanmar"
      ],
      "metadata": {
        "id": "kXcIoMNcx1K1"
      }
    }
  ]
}