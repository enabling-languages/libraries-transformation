{
  "cells": [
    {
      "cell_type": "markdown",
      "metadata": {
        "id": "caZvnw1Dx8_K"
      },
      "source": [
        "# Word segmentation of Lao bibliographic data"
      ]
    },
    {
      "cell_type": "markdown",
      "metadata": {
        "id": "6u6p5IIvyEHR"
      },
      "source": [
        "Install packages not available in Google Colab."
      ]
    },
    {
      "cell_type": "code",
      "execution_count": 12,
      "metadata": {
        "colab": {
          "base_uri": "https://localhost:8080/"
        },
        "id": "bHSDN--Sx3b6",
        "outputId": "9d4fdc39-ede6-4cf2-9d39-13da7bc99ed6"
      },
      "outputs": [],
      "source": [
        "#!pip install laonlp\n",
        "#!pip install pyicu"
      ]
    },
    {
      "cell_type": "markdown",
      "metadata": {
        "id": "gSS2IUQeyKkJ"
      },
      "source": [
        "Import required packages."
      ]
    },
    {
      "cell_type": "code",
      "execution_count": 13,
      "metadata": {
        "id": "gafEAyQCwwoR"
      },
      "outputs": [],
      "source": [
        "import pandas as pd\n",
        "import regex as re\n",
        "from laonlp.tokenize import word_tokenize\n",
        "from icu import BreakIterator, Locale"
      ]
    },
    {
      "cell_type": "markdown",
      "metadata": {
        "id": "Zsf5ekpWw4F1"
      },
      "source": [
        "Sample Lao data from bib records. First column romanised Lao (ALA-LC Lao Romanisation Table 2012), second row is Original Lao script data in bib record (880 fields).\n",
        "\n",
        "Create a pandas dataframe from bib data."
      ]
    },
    {
      "cell_type": "code",
      "execution_count": 14,
      "metadata": {
        "colab": {
          "base_uri": "https://localhost:8080/",
          "height": 143
        },
        "id": "osQjmSldw04W",
        "outputId": "0ab344b4-68e1-4d81-b06c-f3ccd1a311ed"
      },
      "outputs": [
        {
          "data": {
            "text/html": [
              "<div>\n",
              "<style scoped>\n",
              "    .dataframe tbody tr th:only-of-type {\n",
              "        vertical-align: middle;\n",
              "    }\n",
              "\n",
              "    .dataframe tbody tr th {\n",
              "        vertical-align: top;\n",
              "    }\n",
              "\n",
              "    .dataframe thead th {\n",
              "        text-align: right;\n",
              "    }\n",
              "</style>\n",
              "<table border=\"1\" class=\"dataframe\">\n",
              "  <thead>\n",
              "    <tr style=\"text-align: right;\">\n",
              "      <th></th>\n",
              "      <th>latin</th>\n",
              "      <th>lao</th>\n",
              "    </tr>\n",
              "  </thead>\n",
              "  <tbody>\n",
              "    <tr>\n",
              "      <th>0</th>\n",
              "      <td>Kō̜n cha mī Mư̄ang Vīang Sai thān thīman...</td>\n",
              "      <td>ກ່ອນຈະມີເມືອງວຽງໄຊ ຖານທີ່ທີ່ນ ການປະຕິຕິດ : ບົດ...</td>\n",
              "    </tr>\n",
              "    <tr>\n",
              "      <th>1</th>\n",
              "      <td>Lom hāi chai khō̧ng phǣndin / Kom Khāosān...</td>\n",
              "      <td>ລົມຫາຍໃຈຂອງແຜ່ນດິນ / ກົມຂ່າວສານແມ່ຍິງລາວ ສູນກາ...</td>\n",
              "    </tr>\n",
              "    <tr>\n",
              "      <th>2</th>\n",
              "      <td>Sēnthāng sū santiphāp / khonkhwā læ hīap...</td>\n",
              "      <td>ເສັ້ນທາງສູ່ສັນຕິພາບ / ຄົ້ນຄວ້າ ແລະ ຮຽບຮຽງ, ສຸລ...</td>\n",
              "    </tr>\n",
              "  </tbody>\n",
              "</table>\n",
              "</div>"
            ],
            "text/plain": [
              "                                               latin  \\\n",
              "0  Kō̜n cha mī Mư̄ang Vīang Sai thān thīman...   \n",
              "1  Lom hāi chai khō̧ng phǣndin / Kom Khāosān...   \n",
              "2  Sēnthāng sū santiphāp / khonkhwā læ hīap...   \n",
              "\n",
              "                                                 lao  \n",
              "0  ກ່ອນຈະມີເມືອງວຽງໄຊ ຖານທີ່ທີ່ນ ການປະຕິຕິດ : ບົດ...  \n",
              "1  ລົມຫາຍໃຈຂອງແຜ່ນດິນ / ກົມຂ່າວສານແມ່ຍິງລາວ ສູນກາ...  \n",
              "2  ເສັ້ນທາງສູ່ສັນຕິພາບ / ຄົ້ນຄວ້າ ແລະ ຮຽບຮຽງ, ສຸລ...  "
            ]
          },
          "execution_count": 14,
          "metadata": {},
          "output_type": "execute_result"
        }
      ],
      "source": [
        "lao_data =[\n",
        "    [\"Kō̜n cha mī Mư̄ang Vīang Sai thān thīman kānpativat : bot banthưk khwāmsongcham / Somphō̜n Sīsuvanna.\",  \"ກ່ອນຈະມີເມືອງວຽງໄຊ ຖານທີ່ທີ່ນ ການປະຕິຕິດ : ບົດບັນທຶກຄວາມຊົງຈຳ / ສົມພອນ ສີສີສີນນະ.\"],\n",
        "    [\"Lom hāi chai khō̧ng phǣndin / Kom Khāosān Mǣnying Lāo Sūn Kāng Sahāphan Mǣnying Lāo.\", \"ລົມຫາຍໃຈຂອງແຜ່ນດິນ / ກົມຂ່າວສານແມ່ຍິງລາວ ສູນກາງສະຫະພັນແມ່ມ່ງລາວ.\"],\n",
        "    [\"Sēnthāng sū santiphāp / khonkhwā læ hīaphīang, Suli Detvongphan.\", \"ເສັ້ນທາງສູ່ສັນຕິພາບ / ຄົ້ນຄວ້າ ແລະ ຮຽບຮຽງ, ສຸລິ ເດດວົງພັນ.\"]\n",
        "]\n",
        "source_df = pd.DataFrame(lao_data, columns = ['latin', 'lao'])\n",
        "df = source_df\n",
        "df"
      ]
    },
    {
      "cell_type": "markdown",
      "metadata": {
        "id": "JuEIWB6ZywuU"
      },
      "source": [
        "## Tokenisation with LaoNLP\n",
        "\n",
        "_N.B. For the purposes of this exercise, I wish to return a string for comparison with the original Lao and transliterated Lao, rather than an iterator object or list._\n",
        "\n",
        "LaoNLP provides a method to tokenise by word (`word_tokenize`) or by sentence (`sent_tokenize`). In this instance we the word tokeniser.\n",
        "\n",
        "Create a segmentation fuunction to use with Pandas:"
      ]
    },
    {
      "cell_type": "code",
      "execution_count": 15,
      "metadata": {
        "id": "0b-qcxIXyqWs"
      },
      "outputs": [],
      "source": [
        "def laonlp_tokenise(s):\n",
        "    s = \" \".join(word_tokenize(s))\n",
        "    s = re.sub(r\"\\s{2,}\", \" \", s)\n",
        "    return re.sub(r'\\s([?.!\"](?:\\s|$))', r'\\1', s)"
      ]
    },
    {
      "cell_type": "markdown",
      "metadata": {
        "id": "W1Co0mcPySpL"
      },
      "source": [
        "Create new column in dataframe with word segemented Lao script data:"
      ]
    },
    {
      "cell_type": "code",
      "execution_count": 16,
      "metadata": {
        "colab": {
          "base_uri": "https://localhost:8080/",
          "height": 143
        },
        "id": "hqguDPUAySNC",
        "outputId": "ebaff62c-49dd-43b8-f4c7-7a4bc6fdd6b8"
      },
      "outputs": [
        {
          "data": {
            "text/html": [
              "<div>\n",
              "<style scoped>\n",
              "    .dataframe tbody tr th:only-of-type {\n",
              "        vertical-align: middle;\n",
              "    }\n",
              "\n",
              "    .dataframe tbody tr th {\n",
              "        vertical-align: top;\n",
              "    }\n",
              "\n",
              "    .dataframe thead th {\n",
              "        text-align: right;\n",
              "    }\n",
              "</style>\n",
              "<table border=\"1\" class=\"dataframe\">\n",
              "  <thead>\n",
              "    <tr style=\"text-align: right;\">\n",
              "      <th></th>\n",
              "      <th>latin</th>\n",
              "      <th>lao</th>\n",
              "      <th>laonlp</th>\n",
              "    </tr>\n",
              "  </thead>\n",
              "  <tbody>\n",
              "    <tr>\n",
              "      <th>0</th>\n",
              "      <td>Kō̜n cha mī Mư̄ang Vīang Sai thān thīman...</td>\n",
              "      <td>ກ່ອນຈະມີເມືອງວຽງໄຊ ຖານທີ່ທີ່ນ ການປະຕິຕິດ : ບົດ...</td>\n",
              "      <td>ກ່ອນຈະ ມີ ເມືອງ ວຽງໄຊ ຖານທີ່ ທີ່ ນ ການ ປະຕິ ຕິ...</td>\n",
              "    </tr>\n",
              "    <tr>\n",
              "      <th>1</th>\n",
              "      <td>Lom hāi chai khō̧ng phǣndin / Kom Khāosān...</td>\n",
              "      <td>ລົມຫາຍໃຈຂອງແຜ່ນດິນ / ກົມຂ່າວສານແມ່ຍິງລາວ ສູນກາ...</td>\n",
              "      <td>ລົມຫາຍໃຈ ຂອງ ແຜ່ນດິນ / ກົມ ຂ່າວສານ ແມ່ຍິງ ລາວ ...</td>\n",
              "    </tr>\n",
              "    <tr>\n",
              "      <th>2</th>\n",
              "      <td>Sēnthāng sū santiphāp / khonkhwā læ hīap...</td>\n",
              "      <td>ເສັ້ນທາງສູ່ສັນຕິພາບ / ຄົ້ນຄວ້າ ແລະ ຮຽບຮຽງ, ສຸລ...</td>\n",
              "      <td>ເສັ້ນທາງ ສູ່ ສັນຕິພາບ / ຄົ້ນຄວ້າ ແລະ ຮຽບຮຽງ , ...</td>\n",
              "    </tr>\n",
              "  </tbody>\n",
              "</table>\n",
              "</div>"
            ],
            "text/plain": [
              "                                               latin  \\\n",
              "0  Kō̜n cha mī Mư̄ang Vīang Sai thān thīman...   \n",
              "1  Lom hāi chai khō̧ng phǣndin / Kom Khāosān...   \n",
              "2  Sēnthāng sū santiphāp / khonkhwā læ hīap...   \n",
              "\n",
              "                                                 lao  \\\n",
              "0  ກ່ອນຈະມີເມືອງວຽງໄຊ ຖານທີ່ທີ່ນ ການປະຕິຕິດ : ບົດ...   \n",
              "1  ລົມຫາຍໃຈຂອງແຜ່ນດິນ / ກົມຂ່າວສານແມ່ຍິງລາວ ສູນກາ...   \n",
              "2  ເສັ້ນທາງສູ່ສັນຕິພາບ / ຄົ້ນຄວ້າ ແລະ ຮຽບຮຽງ, ສຸລ...   \n",
              "\n",
              "                                              laonlp  \n",
              "0  ກ່ອນຈະ ມີ ເມືອງ ວຽງໄຊ ຖານທີ່ ທີ່ ນ ການ ປະຕິ ຕິ...  \n",
              "1  ລົມຫາຍໃຈ ຂອງ ແຜ່ນດິນ / ກົມ ຂ່າວສານ ແມ່ຍິງ ລາວ ...  \n",
              "2  ເສັ້ນທາງ ສູ່ ສັນຕິພາບ / ຄົ້ນຄວ້າ ແລະ ຮຽບຮຽງ , ...  "
            ]
          },
          "execution_count": 16,
          "metadata": {},
          "output_type": "execute_result"
        }
      ],
      "source": [
        "df['laonlp'] = df['lao'].map(laonlp_tokenise)\n",
        "df"
      ]
    },
    {
      "cell_type": "code",
      "execution_count": 17,
      "metadata": {
        "id": "aIHhcuds1aj8"
      },
      "outputs": [],
      "source": [
        "# df['laonlp_latin_length_ne'] = df['laonlp'].str.split().str.len().ne(df['latin'].str.split().str.len())\n",
        "# df\n"
      ]
    },
    {
      "cell_type": "code",
      "execution_count": 18,
      "metadata": {
        "id": "MRXIkDdWSSdF"
      },
      "outputs": [],
      "source": [
        "#laonlp.tokenize.lao_words()"
      ]
    },
    {
      "cell_type": "markdown",
      "metadata": {
        "id": "lNFup3hPjdK8"
      },
      "source": [
        "## Word segmentation with PyICU\n",
        "\n",
        "PyICU provides the following methods to create a break iterator: `createCharacterInstance`, `createCharacterInstance`, `createLineInstance`,\n",
        " `createSentenceInstance`, `createTitleInstance`, and `createWordInstance`. \n",
        " \n",
        "We will use `createWordInstance` to break at word boundaries.\n",
        "\n",
        "Initially, we define a function to perform the segmentation of the string. LaoNLP provided a mechanism to do that directly. PyICU exposes lower level functions. This is more powerful and flexible, but requires the use to write functions to handle the segmentation of strings."
      ]
    },
    {
      "cell_type": "code",
      "execution_count": 19,
      "metadata": {
        "id": "C69v6c2VB-K2"
      },
      "outputs": [],
      "source": [
        "def iterate_breaks(text, bi):\n",
        "    bi.setText(text)\n",
        "    lastpos = 0\n",
        "    while True:\n",
        "        next_boundary = bi.nextBoundary()\n",
        "        if next_boundary == -1: return\n",
        "        yield text[lastpos:next_boundary]\n",
        "        lastpos = next_boundary\n",
        "\n",
        "def icu_tokenise(s):\n",
        "    bi = BreakIterator.createWordInstance(Locale('lo_LA'))\n",
        "    s = \" \".join(list(iterate_breaks(s, bi)))\n",
        "    s = re.sub(r\"\\s{2,}\", \" \", s)\n",
        "    return re.sub(r'\\s([?.!\"](?:\\s|$))', r'\\1', s)"
      ]
    },
    {
      "cell_type": "code",
      "execution_count": 20,
      "metadata": {
        "colab": {
          "base_uri": "https://localhost:8080/",
          "height": 143
        },
        "id": "R4FprhaMCEJP",
        "outputId": "680c1755-23b0-4e69-8963-c02d961b7d9b"
      },
      "outputs": [
        {
          "data": {
            "text/html": [
              "<div>\n",
              "<style scoped>\n",
              "    .dataframe tbody tr th:only-of-type {\n",
              "        vertical-align: middle;\n",
              "    }\n",
              "\n",
              "    .dataframe tbody tr th {\n",
              "        vertical-align: top;\n",
              "    }\n",
              "\n",
              "    .dataframe thead th {\n",
              "        text-align: right;\n",
              "    }\n",
              "</style>\n",
              "<table border=\"1\" class=\"dataframe\">\n",
              "  <thead>\n",
              "    <tr style=\"text-align: right;\">\n",
              "      <th></th>\n",
              "      <th>latin</th>\n",
              "      <th>lao</th>\n",
              "      <th>laonlp</th>\n",
              "      <th>icu</th>\n",
              "    </tr>\n",
              "  </thead>\n",
              "  <tbody>\n",
              "    <tr>\n",
              "      <th>0</th>\n",
              "      <td>Kō̜n cha mī Mư̄ang Vīang Sai thān thīman...</td>\n",
              "      <td>ກ່ອນຈະມີເມືອງວຽງໄຊ ຖານທີ່ທີ່ນ ການປະຕິຕິດ : ບົດ...</td>\n",
              "      <td>ກ່ອນຈະ ມີ ເມືອງ ວຽງໄຊ ຖານທີ່ ທີ່ ນ ການ ປະຕິ ຕິ...</td>\n",
              "      <td>ກ່ອນ ຈະ ມີ ເມືອງ ວຽງ ໄຊ ຖານ ທີ່ ທີ່ ນ ການ ປະຕິ...</td>\n",
              "    </tr>\n",
              "    <tr>\n",
              "      <th>1</th>\n",
              "      <td>Lom hāi chai khō̧ng phǣndin / Kom Khāosān...</td>\n",
              "      <td>ລົມຫາຍໃຈຂອງແຜ່ນດິນ / ກົມຂ່າວສານແມ່ຍິງລາວ ສູນກາ...</td>\n",
              "      <td>ລົມຫາຍໃຈ ຂອງ ແຜ່ນດິນ / ກົມ ຂ່າວສານ ແມ່ຍິງ ລາວ ...</td>\n",
              "      <td>ລົມ ຫາຍໃຈ ຂອງ ແຜ່ນດິນ / ກົມ ຂ່າວສານ ແມ່ ຍິງ ລາ...</td>\n",
              "    </tr>\n",
              "    <tr>\n",
              "      <th>2</th>\n",
              "      <td>Sēnthāng sū santiphāp / khonkhwā læ hīap...</td>\n",
              "      <td>ເສັ້ນທາງສູ່ສັນຕິພາບ / ຄົ້ນຄວ້າ ແລະ ຮຽບຮຽງ, ສຸລ...</td>\n",
              "      <td>ເສັ້ນທາງ ສູ່ ສັນຕິພາບ / ຄົ້ນຄວ້າ ແລະ ຮຽບຮຽງ , ...</td>\n",
              "      <td>ເສັ້ນທາງ ສູ່ ສັນຕິພາບ / ຄົ້ນ ຄວ້າ ແລະ ຮຽບຮຽງ ,...</td>\n",
              "    </tr>\n",
              "  </tbody>\n",
              "</table>\n",
              "</div>"
            ],
            "text/plain": [
              "                                               latin  \\\n",
              "0  Kō̜n cha mī Mư̄ang Vīang Sai thān thīman...   \n",
              "1  Lom hāi chai khō̧ng phǣndin / Kom Khāosān...   \n",
              "2  Sēnthāng sū santiphāp / khonkhwā læ hīap...   \n",
              "\n",
              "                                                 lao  \\\n",
              "0  ກ່ອນຈະມີເມືອງວຽງໄຊ ຖານທີ່ທີ່ນ ການປະຕິຕິດ : ບົດ...   \n",
              "1  ລົມຫາຍໃຈຂອງແຜ່ນດິນ / ກົມຂ່າວສານແມ່ຍິງລາວ ສູນກາ...   \n",
              "2  ເສັ້ນທາງສູ່ສັນຕິພາບ / ຄົ້ນຄວ້າ ແລະ ຮຽບຮຽງ, ສຸລ...   \n",
              "\n",
              "                                              laonlp  \\\n",
              "0  ກ່ອນຈະ ມີ ເມືອງ ວຽງໄຊ ຖານທີ່ ທີ່ ນ ການ ປະຕິ ຕິ...   \n",
              "1  ລົມຫາຍໃຈ ຂອງ ແຜ່ນດິນ / ກົມ ຂ່າວສານ ແມ່ຍິງ ລາວ ...   \n",
              "2  ເສັ້ນທາງ ສູ່ ສັນຕິພາບ / ຄົ້ນຄວ້າ ແລະ ຮຽບຮຽງ , ...   \n",
              "\n",
              "                                                 icu  \n",
              "0  ກ່ອນ ຈະ ມີ ເມືອງ ວຽງ ໄຊ ຖານ ທີ່ ທີ່ ນ ການ ປະຕິ...  \n",
              "1  ລົມ ຫາຍໃຈ ຂອງ ແຜ່ນດິນ / ກົມ ຂ່າວສານ ແມ່ ຍິງ ລາ...  \n",
              "2  ເສັ້ນທາງ ສູ່ ສັນຕິພາບ / ຄົ້ນ ຄວ້າ ແລະ ຮຽບຮຽງ ,...  "
            ]
          },
          "execution_count": 20,
          "metadata": {},
          "output_type": "execute_result"
        }
      ],
      "source": [
        "df['icu'] = df['lao'].map(icu_tokenise)\n",
        "df"
      ]
    },
    {
      "cell_type": "code",
      "execution_count": 21,
      "metadata": {
        "id": "ysS_UN1YGhp9"
      },
      "outputs": [],
      "source": [
        "# df['icu_latin_length_ne'] = df['icu'].str.split().str.len().ne(df['latin'].str.split().str.len())\n",
        "# df"
      ]
    },
    {
      "cell_type": "code",
      "execution_count": 22,
      "metadata": {
        "id": "9qKa_1ArIbeA"
      },
      "outputs": [],
      "source": [
        "# df['laonlp_icu_length_ne'] = df['laonlp'].str.split().str.len().ne(df['icu'].str.split().str.len())\n",
        "# df"
      ]
    }
  ],
  "metadata": {
    "colab": {
      "collapsed_sections": [],
      "name": "lao_bib_data.ipynb",
      "provenance": []
    },
    "kernelspec": {
      "display_name": "Python 3",
      "name": "python3"
    },
    "language_info": {
      "codemirror_mode": {
        "name": "ipython",
        "version": 3
      },
      "file_extension": ".py",
      "mimetype": "text/x-python",
      "name": "python",
      "nbconvert_exporter": "python",
      "pygments_lexer": "ipython3",
      "version": "3.9.7"
    }
  },
  "nbformat": 4,
  "nbformat_minor": 0
}
